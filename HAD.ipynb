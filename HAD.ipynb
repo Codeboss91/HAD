{
 "cells": [
  {
   "cell_type": "code",
   "execution_count": 9,
   "id": "5605ca54",
   "metadata": {},
   "outputs": [],
   "source": [
    "\n",
    "%matplotlib inline \n",
    "import pandas as pd\n",
    "import numpy as np\n",
    "import matplotlib.pyplot as plt\n",
    "import seaborn as sns\n",
    "from sklearn.model_selection import train_test_split\n",
    "from sklearn.metrics import r2_score, mean_squared_error\n",
    "from sklearn.preprocessing import MinMaxScaler\n",
    "from sklearn.neighbors import KNeighborsRegressor\n",
    "from sklearn.linear_model import LinearRegression\n",
    "from sklearn.svm import SVR\n",
    "from sklearn.ensemble import RandomForestRegressor\n",
    "from sklearn.tree import DecisionTreeRegressor\n",
    "from scipy.stats import pearsonr\n",
    "from sklearn.ensemble import GradientBoostingRegressor\n",
    "from sklearn.linear_model import SGDRegressor\n",
    "import statsmodels.api as sm\n",
    "from sklearn.model_selection import GridSearchCV\n",
    "from sklearn.model_selection import train_test_split\n"
   ]
  },
  {
   "cell_type": "code",
   "execution_count": 36,
   "id": "5f67bbcf",
   "metadata": {},
   "outputs": [],
   "source": [
    "df=pd.read_excel('./data/Admissiondata.xlsx')"
   ]
  },
  {
   "cell_type": "code",
   "execution_count": 37,
   "id": "e70da1ce",
   "metadata": {},
   "outputs": [
    {
     "data": {
      "text/html": [
       "<div>\n",
       "<style scoped>\n",
       "    .dataframe tbody tr th:only-of-type {\n",
       "        vertical-align: middle;\n",
       "    }\n",
       "\n",
       "    .dataframe tbody tr th {\n",
       "        vertical-align: top;\n",
       "    }\n",
       "\n",
       "    .dataframe thead th {\n",
       "        text-align: right;\n",
       "    }\n",
       "</style>\n",
       "<table border=\"1\" class=\"dataframe\">\n",
       "  <thead>\n",
       "    <tr style=\"text-align: right;\">\n",
       "      <th></th>\n",
       "      <th>Hospital Stay</th>\n",
       "      <th>Gross Bill Amount</th>\n",
       "      <th>Authorisation Amount</th>\n",
       "      <th>Insurance Payable</th>\n",
       "      <th>Cash Payable</th>\n",
       "      <th>Shortfall Payable</th>\n",
       "      <th>Special Contract Payable</th>\n",
       "      <th>Total Cash/Shortfall Payable</th>\n",
       "      <th>Total Cash/Shortfall Paid</th>\n",
       "      <th>Total Amount Payable</th>\n",
       "      <th>Total Amount Paid</th>\n",
       "      <th>Age</th>\n",
       "    </tr>\n",
       "  </thead>\n",
       "  <tbody>\n",
       "    <tr>\n",
       "      <th>count</th>\n",
       "      <td>13961.000000</td>\n",
       "      <td>1.510700e+04</td>\n",
       "      <td>1.510700e+04</td>\n",
       "      <td>1.510700e+04</td>\n",
       "      <td>15107.000000</td>\n",
       "      <td>15107.000000</td>\n",
       "      <td>15107.000000</td>\n",
       "      <td>15107.000000</td>\n",
       "      <td>15107.000000</td>\n",
       "      <td>1.510700e+04</td>\n",
       "      <td>15107.000000</td>\n",
       "      <td>15107.000000</td>\n",
       "    </tr>\n",
       "    <tr>\n",
       "      <th>mean</th>\n",
       "      <td>3.977222</td>\n",
       "      <td>2.624087e+04</td>\n",
       "      <td>2.277017e+04</td>\n",
       "      <td>2.314707e+04</td>\n",
       "      <td>1619.103508</td>\n",
       "      <td>1067.006470</td>\n",
       "      <td>407.691032</td>\n",
       "      <td>2686.109977</td>\n",
       "      <td>953.050861</td>\n",
       "      <td>2.624087e+04</td>\n",
       "      <td>953.050861</td>\n",
       "      <td>42.148143</td>\n",
       "    </tr>\n",
       "    <tr>\n",
       "      <th>std</th>\n",
       "      <td>13.377516</td>\n",
       "      <td>7.532498e+04</td>\n",
       "      <td>7.124035e+04</td>\n",
       "      <td>7.166542e+04</td>\n",
       "      <td>13612.136299</td>\n",
       "      <td>15858.162621</td>\n",
       "      <td>14073.434550</td>\n",
       "      <td>20816.247495</td>\n",
       "      <td>7569.267765</td>\n",
       "      <td>7.532498e+04</td>\n",
       "      <td>7569.267765</td>\n",
       "      <td>23.752562</td>\n",
       "    </tr>\n",
       "    <tr>\n",
       "      <th>min</th>\n",
       "      <td>-723.000000</td>\n",
       "      <td>-1.938000e+01</td>\n",
       "      <td>0.000000e+00</td>\n",
       "      <td>0.000000e+00</td>\n",
       "      <td>0.000000</td>\n",
       "      <td>-1363.360000</td>\n",
       "      <td>0.000000</td>\n",
       "      <td>-1363.360000</td>\n",
       "      <td>0.000000</td>\n",
       "      <td>-1.938000e+01</td>\n",
       "      <td>0.000000</td>\n",
       "      <td>0.000000</td>\n",
       "    </tr>\n",
       "    <tr>\n",
       "      <th>25%</th>\n",
       "      <td>1.000000</td>\n",
       "      <td>6.666800e+02</td>\n",
       "      <td>4.000000e+02</td>\n",
       "      <td>4.219400e+02</td>\n",
       "      <td>0.000000</td>\n",
       "      <td>0.000000</td>\n",
       "      <td>0.000000</td>\n",
       "      <td>0.000000</td>\n",
       "      <td>0.000000</td>\n",
       "      <td>6.666800e+02</td>\n",
       "      <td>0.000000</td>\n",
       "      <td>27.000000</td>\n",
       "    </tr>\n",
       "    <tr>\n",
       "      <th>50%</th>\n",
       "      <td>2.000000</td>\n",
       "      <td>2.626260e+03</td>\n",
       "      <td>1.528000e+03</td>\n",
       "      <td>1.571910e+03</td>\n",
       "      <td>0.000000</td>\n",
       "      <td>0.000000</td>\n",
       "      <td>0.000000</td>\n",
       "      <td>0.000000</td>\n",
       "      <td>0.000000</td>\n",
       "      <td>2.626260e+03</td>\n",
       "      <td>0.000000</td>\n",
       "      <td>39.000000</td>\n",
       "    </tr>\n",
       "    <tr>\n",
       "      <th>75%</th>\n",
       "      <td>5.000000</td>\n",
       "      <td>2.302181e+04</td>\n",
       "      <td>1.783888e+04</td>\n",
       "      <td>1.877026e+04</td>\n",
       "      <td>0.000000</td>\n",
       "      <td>0.000000</td>\n",
       "      <td>0.000000</td>\n",
       "      <td>0.000000</td>\n",
       "      <td>0.000000</td>\n",
       "      <td>2.302181e+04</td>\n",
       "      <td>0.000000</td>\n",
       "      <td>61.000000</td>\n",
       "    </tr>\n",
       "    <tr>\n",
       "      <th>max</th>\n",
       "      <td>423.000000</td>\n",
       "      <td>1.964434e+06</td>\n",
       "      <td>1.964434e+06</td>\n",
       "      <td>1.964434e+06</td>\n",
       "      <td>529143.060000</td>\n",
       "      <td>803171.560000</td>\n",
       "      <td>815074.210000</td>\n",
       "      <td>803171.560000</td>\n",
       "      <td>304255.000000</td>\n",
       "      <td>1.964434e+06</td>\n",
       "      <td>304255.000000</td>\n",
       "      <td>133.000000</td>\n",
       "    </tr>\n",
       "  </tbody>\n",
       "</table>\n",
       "</div>"
      ],
      "text/plain": [
       "       Hospital Stay  Gross Bill Amount  Authorisation Amount  \\\n",
       "count   13961.000000       1.510700e+04          1.510700e+04   \n",
       "mean        3.977222       2.624087e+04          2.277017e+04   \n",
       "std        13.377516       7.532498e+04          7.124035e+04   \n",
       "min      -723.000000      -1.938000e+01          0.000000e+00   \n",
       "25%         1.000000       6.666800e+02          4.000000e+02   \n",
       "50%         2.000000       2.626260e+03          1.528000e+03   \n",
       "75%         5.000000       2.302181e+04          1.783888e+04   \n",
       "max       423.000000       1.964434e+06          1.964434e+06   \n",
       "\n",
       "       Insurance Payable   Cash Payable  Shortfall Payable  \\\n",
       "count       1.510700e+04   15107.000000       15107.000000   \n",
       "mean        2.314707e+04    1619.103508        1067.006470   \n",
       "std         7.166542e+04   13612.136299       15858.162621   \n",
       "min         0.000000e+00       0.000000       -1363.360000   \n",
       "25%         4.219400e+02       0.000000           0.000000   \n",
       "50%         1.571910e+03       0.000000           0.000000   \n",
       "75%         1.877026e+04       0.000000           0.000000   \n",
       "max         1.964434e+06  529143.060000      803171.560000   \n",
       "\n",
       "       Special Contract Payable  Total Cash/Shortfall Payable  \\\n",
       "count              15107.000000                  15107.000000   \n",
       "mean                 407.691032                   2686.109977   \n",
       "std                14073.434550                  20816.247495   \n",
       "min                    0.000000                  -1363.360000   \n",
       "25%                    0.000000                      0.000000   \n",
       "50%                    0.000000                      0.000000   \n",
       "75%                    0.000000                      0.000000   \n",
       "max               815074.210000                 803171.560000   \n",
       "\n",
       "       Total Cash/Shortfall Paid  Total Amount Payable  Total Amount Paid  \\\n",
       "count               15107.000000          1.510700e+04       15107.000000   \n",
       "mean                  953.050861          2.624087e+04         953.050861   \n",
       "std                  7569.267765          7.532498e+04        7569.267765   \n",
       "min                     0.000000         -1.938000e+01           0.000000   \n",
       "25%                     0.000000          6.666800e+02           0.000000   \n",
       "50%                     0.000000          2.626260e+03           0.000000   \n",
       "75%                     0.000000          2.302181e+04           0.000000   \n",
       "max                304255.000000          1.964434e+06      304255.000000   \n",
       "\n",
       "                Age  \n",
       "count  15107.000000  \n",
       "mean      42.148143  \n",
       "std       23.752562  \n",
       "min        0.000000  \n",
       "25%       27.000000  \n",
       "50%       39.000000  \n",
       "75%       61.000000  \n",
       "max      133.000000  "
      ]
     },
     "execution_count": 37,
     "metadata": {},
     "output_type": "execute_result"
    }
   ],
   "source": [
    "df.describe()"
   ]
  },
  {
   "cell_type": "code",
   "execution_count": 38,
   "id": "66e34e91",
   "metadata": {},
   "outputs": [
    {
     "data": {
      "text/html": [
       "<div>\n",
       "<style scoped>\n",
       "    .dataframe tbody tr th:only-of-type {\n",
       "        vertical-align: middle;\n",
       "    }\n",
       "\n",
       "    .dataframe tbody tr th {\n",
       "        vertical-align: top;\n",
       "    }\n",
       "\n",
       "    .dataframe thead th {\n",
       "        text-align: right;\n",
       "    }\n",
       "</style>\n",
       "<table border=\"1\" class=\"dataframe\">\n",
       "  <thead>\n",
       "    <tr style=\"text-align: right;\">\n",
       "      <th></th>\n",
       "      <th>Patient Number</th>\n",
       "      <th>Visit Number</th>\n",
       "      <th>Diagnosis</th>\n",
       "      <th>ICD10 code</th>\n",
       "      <th>Admission Status</th>\n",
       "      <th>Addmission Date Time</th>\n",
       "      <th>Discharge Date Time</th>\n",
       "      <th>Hospital Stay</th>\n",
       "      <th>Stay</th>\n",
       "      <th>Ward</th>\n",
       "      <th>...</th>\n",
       "      <th>Total Amount Paid</th>\n",
       "      <th>Addmission Date</th>\n",
       "      <th>Addmission Time</th>\n",
       "      <th>Discharge Date</th>\n",
       "      <th>Discharge Time</th>\n",
       "      <th>ICD10 code.1</th>\n",
       "      <th>diagnosis name</th>\n",
       "      <th>name</th>\n",
       "      <th>date_of_birth</th>\n",
       "      <th>Age</th>\n",
       "    </tr>\n",
       "  </thead>\n",
       "  <tbody>\n",
       "    <tr>\n",
       "      <th>15102</th>\n",
       "      <td>PAT1812N023023</td>\n",
       "      <td>H01VST1909N000339</td>\n",
       "      <td>Factors influencing health status and contact ...</td>\n",
       "      <td>Z97.5</td>\n",
       "      <td>DISCHARGE</td>\n",
       "      <td>2019-09-24 14:06:27.0000000</td>\n",
       "      <td>2019-09-28 17:20:00.000</td>\n",
       "      <td>0.0</td>\n",
       "      <td>Days</td>\n",
       "      <td>MATERNITY</td>\n",
       "      <td>...</td>\n",
       "      <td>0.0</td>\n",
       "      <td>2019-09-28</td>\n",
       "      <td>14:06:27</td>\n",
       "      <td>2019-09-28</td>\n",
       "      <td>17:20:00</td>\n",
       "      <td>Z97.5</td>\n",
       "      <td>Presence of (intrauterine) contraceptive device</td>\n",
       "      <td>FEMALE</td>\n",
       "      <td>1984-03-06</td>\n",
       "      <td>37</td>\n",
       "    </tr>\n",
       "    <tr>\n",
       "      <th>15103</th>\n",
       "      <td>PAT1810N040219</td>\n",
       "      <td>H01VST2109N000106</td>\n",
       "      <td>Factors influencing health status and contact ...</td>\n",
       "      <td>Z98</td>\n",
       "      <td>DISCHARGE</td>\n",
       "      <td>2021-09-07 11:02:55.0000000</td>\n",
       "      <td>2021-09-09 14:00:00.000</td>\n",
       "      <td>2.0</td>\n",
       "      <td>Days</td>\n",
       "      <td>MATERNITY</td>\n",
       "      <td>...</td>\n",
       "      <td>0.0</td>\n",
       "      <td>2021-09-07</td>\n",
       "      <td>11:02:55</td>\n",
       "      <td>2021-09-09</td>\n",
       "      <td>14:00:00</td>\n",
       "      <td>Z98</td>\n",
       "      <td>Other postsurgical states</td>\n",
       "      <td>FEMALE</td>\n",
       "      <td>1983-12-01</td>\n",
       "      <td>38</td>\n",
       "    </tr>\n",
       "    <tr>\n",
       "      <th>15104</th>\n",
       "      <td>PAT1809N010478</td>\n",
       "      <td>H01VST2109N000202</td>\n",
       "      <td>Factors influencing health status and contact ...</td>\n",
       "      <td>Z98.0</td>\n",
       "      <td>DISCHARGE</td>\n",
       "      <td>2021-09-13 13:20:07.0000000</td>\n",
       "      <td>2021-09-14 13:00:27.000</td>\n",
       "      <td>1.0</td>\n",
       "      <td>Days</td>\n",
       "      <td>SURGICAL</td>\n",
       "      <td>...</td>\n",
       "      <td>0.0</td>\n",
       "      <td>2021-09-13</td>\n",
       "      <td>13:20:07</td>\n",
       "      <td>2021-09-14</td>\n",
       "      <td>13:00:27</td>\n",
       "      <td>Z98.0</td>\n",
       "      <td>Intestinal bypass and anastomosis status</td>\n",
       "      <td>MALE</td>\n",
       "      <td>1969-03-04</td>\n",
       "      <td>52</td>\n",
       "    </tr>\n",
       "    <tr>\n",
       "      <th>15105</th>\n",
       "      <td>PAT180823N000900</td>\n",
       "      <td>H01VST1910N000097</td>\n",
       "      <td>Factors influencing health status and contact ...</td>\n",
       "      <td>Z98.8</td>\n",
       "      <td>DISCHARGE</td>\n",
       "      <td>2019-10-04 07:31:29.0000000</td>\n",
       "      <td>2019-10-04 13:00:40.000</td>\n",
       "      <td>0.0</td>\n",
       "      <td>Days</td>\n",
       "      <td>SURGICAL</td>\n",
       "      <td>...</td>\n",
       "      <td>0.0</td>\n",
       "      <td>2019-10-04</td>\n",
       "      <td>07:31:29</td>\n",
       "      <td>2019-10-04</td>\n",
       "      <td>13:00:40</td>\n",
       "      <td>Z98.8</td>\n",
       "      <td>Other specified postprocedural states</td>\n",
       "      <td>MALE</td>\n",
       "      <td>1956-08-20</td>\n",
       "      <td>65</td>\n",
       "    </tr>\n",
       "    <tr>\n",
       "      <th>15106</th>\n",
       "      <td>PAT1906N012613</td>\n",
       "      <td>H01VST2109N000526</td>\n",
       "      <td>Factors influencing health status and contact ...</td>\n",
       "      <td>Z99.2</td>\n",
       "      <td>DISCHARGE</td>\n",
       "      <td>2021-09-29 21:42:21.0000000</td>\n",
       "      <td>2021-10-02 09:00:43.000</td>\n",
       "      <td>3.0</td>\n",
       "      <td>Days</td>\n",
       "      <td>MEDICAL</td>\n",
       "      <td>...</td>\n",
       "      <td>0.0</td>\n",
       "      <td>2021-09-29</td>\n",
       "      <td>21:42:21</td>\n",
       "      <td>2021-10-02</td>\n",
       "      <td>09:00:43</td>\n",
       "      <td>Z99.2</td>\n",
       "      <td>Dependence on renal dialysis</td>\n",
       "      <td>MALE</td>\n",
       "      <td>1942-12-23</td>\n",
       "      <td>79</td>\n",
       "    </tr>\n",
       "  </tbody>\n",
       "</table>\n",
       "<p>5 rows × 36 columns</p>\n",
       "</div>"
      ],
      "text/plain": [
       "         Patient Number       Visit Number  \\\n",
       "15102    PAT1812N023023  H01VST1909N000339   \n",
       "15103    PAT1810N040219  H01VST2109N000106   \n",
       "15104    PAT1809N010478  H01VST2109N000202   \n",
       "15105  PAT180823N000900  H01VST1910N000097   \n",
       "15106    PAT1906N012613  H01VST2109N000526   \n",
       "\n",
       "                                               Diagnosis ICD10 code  \\\n",
       "15102  Factors influencing health status and contact ...      Z97.5   \n",
       "15103  Factors influencing health status and contact ...        Z98   \n",
       "15104  Factors influencing health status and contact ...      Z98.0   \n",
       "15105  Factors influencing health status and contact ...      Z98.8   \n",
       "15106  Factors influencing health status and contact ...      Z99.2   \n",
       "\n",
       "      Admission Status         Addmission Date Time      Discharge Date Time  \\\n",
       "15102        DISCHARGE  2019-09-24 14:06:27.0000000  2019-09-28 17:20:00.000   \n",
       "15103        DISCHARGE  2021-09-07 11:02:55.0000000  2021-09-09 14:00:00.000   \n",
       "15104        DISCHARGE  2021-09-13 13:20:07.0000000  2021-09-14 13:00:27.000   \n",
       "15105        DISCHARGE  2019-10-04 07:31:29.0000000  2019-10-04 13:00:40.000   \n",
       "15106        DISCHARGE  2021-09-29 21:42:21.0000000  2021-10-02 09:00:43.000   \n",
       "\n",
       "       Hospital Stay  Stay       Ward  ... Total Amount Paid Addmission Date  \\\n",
       "15102            0.0  Days  MATERNITY  ...               0.0      2019-09-28   \n",
       "15103            2.0  Days  MATERNITY  ...               0.0      2021-09-07   \n",
       "15104            1.0  Days   SURGICAL  ...               0.0      2021-09-13   \n",
       "15105            0.0  Days   SURGICAL  ...               0.0      2019-10-04   \n",
       "15106            3.0  Days    MEDICAL  ...               0.0      2021-09-29   \n",
       "\n",
       "      Addmission Time Discharge Date Discharge Time ICD10 code.1  \\\n",
       "15102        14:06:27     2019-09-28       17:20:00        Z97.5   \n",
       "15103        11:02:55     2021-09-09       14:00:00          Z98   \n",
       "15104        13:20:07     2021-09-14       13:00:27        Z98.0   \n",
       "15105        07:31:29     2019-10-04       13:00:40        Z98.8   \n",
       "15106        21:42:21     2021-10-02       09:00:43        Z99.2   \n",
       "\n",
       "                                        diagnosis name    name  date_of_birth  \\\n",
       "15102  Presence of (intrauterine) contraceptive device  FEMALE     1984-03-06   \n",
       "15103                        Other postsurgical states  FEMALE     1983-12-01   \n",
       "15104         Intestinal bypass and anastomosis status    MALE     1969-03-04   \n",
       "15105            Other specified postprocedural states    MALE     1956-08-20   \n",
       "15106                     Dependence on renal dialysis    MALE     1942-12-23   \n",
       "\n",
       "       Age  \n",
       "15102   37  \n",
       "15103   38  \n",
       "15104   52  \n",
       "15105   65  \n",
       "15106   79  \n",
       "\n",
       "[5 rows x 36 columns]"
      ]
     },
     "execution_count": 38,
     "metadata": {},
     "output_type": "execute_result"
    }
   ],
   "source": [
    "df.tail()"
   ]
  },
  {
   "cell_type": "code",
   "execution_count": 39,
   "id": "09a241ee",
   "metadata": {},
   "outputs": [
    {
     "data": {
      "text/plain": [
       "Index(['Patient Number', 'Visit Number', 'Diagnosis', 'ICD10 code',\n",
       "       'Admission Status', 'Addmission Date Time', 'Discharge Date Time',\n",
       "       'Hospital Stay', 'Stay', 'Ward', 'Bill Type', 'Bill Category',\n",
       "       'Insurance', 'Admission Doctor', 'Visit created by', 'Discharge Doctor',\n",
       "       'Gross Bill Amount', 'Authorizaion Number', 'Authorisation Amount',\n",
       "       'Insurance Payable', 'Cash Payable', 'Shortfall Payable',\n",
       "       'Special Contract Payable', 'Total Cash/Shortfall Payable',\n",
       "       'Total Cash/Shortfall Paid', 'Total Amount Payable',\n",
       "       'Total Amount Paid', 'Addmission Date', 'Addmission Time',\n",
       "       'Discharge Date', 'Discharge Time', 'ICD10 code.1', 'diagnosis name',\n",
       "       'name', 'date_of_birth', 'Age'],\n",
       "      dtype='object')"
      ]
     },
     "execution_count": 39,
     "metadata": {},
     "output_type": "execute_result"
    }
   ],
   "source": [
    "df.columns"
   ]
  },
  {
   "cell_type": "code",
   "execution_count": 19,
   "id": "095e8e54",
   "metadata": {},
   "outputs": [
    {
     "data": {
      "text/plain": [
       "count    13961.000000\n",
       "mean         3.977222\n",
       "std         13.377516\n",
       "min       -723.000000\n",
       "25%          1.000000\n",
       "50%          2.000000\n",
       "75%          5.000000\n",
       "max        423.000000\n",
       "Name: Hospital Stay, dtype: float64"
      ]
     },
     "execution_count": 19,
     "metadata": {},
     "output_type": "execute_result"
    }
   ],
   "source": [
    "df['Hospital Stay'].describe()"
   ]
  },
  {
   "cell_type": "code",
   "execution_count": 20,
   "id": "50927080",
   "metadata": {},
   "outputs": [
    {
     "data": {
      "text/html": [
       "<div>\n",
       "<style scoped>\n",
       "    .dataframe tbody tr th:only-of-type {\n",
       "        vertical-align: middle;\n",
       "    }\n",
       "\n",
       "    .dataframe tbody tr th {\n",
       "        vertical-align: top;\n",
       "    }\n",
       "\n",
       "    .dataframe thead th {\n",
       "        text-align: right;\n",
       "    }\n",
       "</style>\n",
       "<table border=\"1\" class=\"dataframe\">\n",
       "  <thead>\n",
       "    <tr style=\"text-align: right;\">\n",
       "      <th></th>\n",
       "      <th>Patient Number</th>\n",
       "      <th>Visit Number</th>\n",
       "      <th>Bill Number</th>\n",
       "      <th>Admission Status</th>\n",
       "      <th>Addmission Date Time</th>\n",
       "      <th>Discharge Date Time</th>\n",
       "      <th>Hospital Stay</th>\n",
       "      <th>Stay</th>\n",
       "      <th>Ward</th>\n",
       "      <th>Bill Type</th>\n",
       "      <th>...</th>\n",
       "      <th>Total Amount Paid</th>\n",
       "      <th>Addmission Date</th>\n",
       "      <th>Addmission Time</th>\n",
       "      <th>Discharge Date</th>\n",
       "      <th>Discharge Time</th>\n",
       "      <th>ICD10 code</th>\n",
       "      <th>diagnosis name</th>\n",
       "      <th>name</th>\n",
       "      <th>date_of_birth</th>\n",
       "      <th>Age</th>\n",
       "    </tr>\n",
       "  </thead>\n",
       "  <tbody>\n",
       "    <tr>\n",
       "      <th>524</th>\n",
       "      <td>PAT2102N001585</td>\n",
       "      <td>H03VST2102N000029</td>\n",
       "      <td>H03BIL2102000029</td>\n",
       "      <td>DISCHARGE</td>\n",
       "      <td>2021-02-23 15:26:12.0000000</td>\n",
       "      <td>2021-02-19 10:00:59.000</td>\n",
       "      <td>-4.0</td>\n",
       "      <td>Days</td>\n",
       "      <td>MEDICAL</td>\n",
       "      <td>INPATIENT</td>\n",
       "      <td>...</td>\n",
       "      <td>0.00</td>\n",
       "      <td>2021-02-23</td>\n",
       "      <td>15:26:12</td>\n",
       "      <td>2021-02-19</td>\n",
       "      <td>10:00:59</td>\n",
       "      <td>I50.0</td>\n",
       "      <td>Congestive heart failure</td>\n",
       "      <td>FEMALE</td>\n",
       "      <td>1937-06-05</td>\n",
       "      <td>84</td>\n",
       "    </tr>\n",
       "    <tr>\n",
       "      <th>527</th>\n",
       "      <td>PAT1811N026482</td>\n",
       "      <td>H03VST2102N000023</td>\n",
       "      <td>H03BIL2102000023</td>\n",
       "      <td>DISCHARGE</td>\n",
       "      <td>2021-02-23 14:59:43.0000000</td>\n",
       "      <td>2021-02-20 10:00:59.000</td>\n",
       "      <td>-3.0</td>\n",
       "      <td>Days</td>\n",
       "      <td>MEDICAL</td>\n",
       "      <td>INPATIENT</td>\n",
       "      <td>...</td>\n",
       "      <td>0.00</td>\n",
       "      <td>2021-02-23</td>\n",
       "      <td>14:59:43</td>\n",
       "      <td>2021-02-20</td>\n",
       "      <td>10:00:59</td>\n",
       "      <td>E04</td>\n",
       "      <td>Other nontoxic goitre</td>\n",
       "      <td>MALE</td>\n",
       "      <td>1949-12-25</td>\n",
       "      <td>72</td>\n",
       "    </tr>\n",
       "    <tr>\n",
       "      <th>528</th>\n",
       "      <td>PAT2102N007052</td>\n",
       "      <td>H03VST2102N000021</td>\n",
       "      <td>H03BIL2102000021</td>\n",
       "      <td>DISCHARGE</td>\n",
       "      <td>2021-02-23 14:51:18.0000000</td>\n",
       "      <td>2021-02-19 10:00:59.000</td>\n",
       "      <td>-4.0</td>\n",
       "      <td>Days</td>\n",
       "      <td>MEDICAL</td>\n",
       "      <td>INPATIENT</td>\n",
       "      <td>...</td>\n",
       "      <td>10888.80</td>\n",
       "      <td>2021-02-23</td>\n",
       "      <td>14:51:18</td>\n",
       "      <td>2021-02-19</td>\n",
       "      <td>10:00:59</td>\n",
       "      <td>I50.0</td>\n",
       "      <td>Congestive heart failure</td>\n",
       "      <td>MALE</td>\n",
       "      <td>1959-10-23</td>\n",
       "      <td>62</td>\n",
       "    </tr>\n",
       "    <tr>\n",
       "      <th>783</th>\n",
       "      <td>PAT180822N000143</td>\n",
       "      <td>H03VST2009N000033</td>\n",
       "      <td>H03BIL2009000034</td>\n",
       "      <td>DISCHARGE</td>\n",
       "      <td>2020-09-29 16:53:19.0000000</td>\n",
       "      <td>2020-09-28 10:00:59.000</td>\n",
       "      <td>-1.0</td>\n",
       "      <td>Days</td>\n",
       "      <td>MEDICAL</td>\n",
       "      <td>INPATIENT</td>\n",
       "      <td>...</td>\n",
       "      <td>0.00</td>\n",
       "      <td>2020-09-29</td>\n",
       "      <td>16:53:19</td>\n",
       "      <td>2020-09-28</td>\n",
       "      <td>10:00:59</td>\n",
       "      <td>NaN</td>\n",
       "      <td>NaN</td>\n",
       "      <td>MALE</td>\n",
       "      <td>1953-06-30</td>\n",
       "      <td>68</td>\n",
       "    </tr>\n",
       "    <tr>\n",
       "      <th>854</th>\n",
       "      <td>PAT2007N005933</td>\n",
       "      <td>H03VST2007N000029</td>\n",
       "      <td>H03BIL2007000031</td>\n",
       "      <td>DISCHARGE</td>\n",
       "      <td>2020-07-28 14:19:37.0000000</td>\n",
       "      <td>2020-07-01 16:00:57.000</td>\n",
       "      <td>-27.0</td>\n",
       "      <td>Days</td>\n",
       "      <td>MEDICAL</td>\n",
       "      <td>INPATIENT</td>\n",
       "      <td>...</td>\n",
       "      <td>14022.36</td>\n",
       "      <td>2020-07-28</td>\n",
       "      <td>14:19:37</td>\n",
       "      <td>2020-07-01</td>\n",
       "      <td>16:00:57</td>\n",
       "      <td>D64</td>\n",
       "      <td>Other anaemias</td>\n",
       "      <td>FEMALE</td>\n",
       "      <td>1954-04-09</td>\n",
       "      <td>67</td>\n",
       "    </tr>\n",
       "    <tr>\n",
       "      <th>...</th>\n",
       "      <td>...</td>\n",
       "      <td>...</td>\n",
       "      <td>...</td>\n",
       "      <td>...</td>\n",
       "      <td>...</td>\n",
       "      <td>...</td>\n",
       "      <td>...</td>\n",
       "      <td>...</td>\n",
       "      <td>...</td>\n",
       "      <td>...</td>\n",
       "      <td>...</td>\n",
       "      <td>...</td>\n",
       "      <td>...</td>\n",
       "      <td>...</td>\n",
       "      <td>...</td>\n",
       "      <td>...</td>\n",
       "      <td>...</td>\n",
       "      <td>...</td>\n",
       "      <td>...</td>\n",
       "      <td>...</td>\n",
       "      <td>...</td>\n",
       "    </tr>\n",
       "    <tr>\n",
       "      <th>12520</th>\n",
       "      <td>PAT1908N005956</td>\n",
       "      <td>H05VST1908N000227</td>\n",
       "      <td>H05BIL1908000529</td>\n",
       "      <td>DISCHARGE</td>\n",
       "      <td>2019-08-14 03:47:35.0000000</td>\n",
       "      <td>2017-09-01 13:00:42.000</td>\n",
       "      <td>-712.0</td>\n",
       "      <td>Days</td>\n",
       "      <td>MATERNITY</td>\n",
       "      <td>INPATIENT</td>\n",
       "      <td>...</td>\n",
       "      <td>0.00</td>\n",
       "      <td>2019-08-14</td>\n",
       "      <td>03:47:35</td>\n",
       "      <td>2017-09-01</td>\n",
       "      <td>13:00:42</td>\n",
       "      <td>O80.0</td>\n",
       "      <td>Spontaneous vertex delivery</td>\n",
       "      <td>FEMALE</td>\n",
       "      <td>1996-01-24</td>\n",
       "      <td>25</td>\n",
       "    </tr>\n",
       "    <tr>\n",
       "      <th>12668</th>\n",
       "      <td>PAT180727N001684</td>\n",
       "      <td>H05VST1908N000361</td>\n",
       "      <td>H05BIL1908000841</td>\n",
       "      <td>DISCHARGE</td>\n",
       "      <td>2019-08-21 14:15:41.0000000</td>\n",
       "      <td>2019-08-01 15:00:53.000</td>\n",
       "      <td>-20.0</td>\n",
       "      <td>Days</td>\n",
       "      <td>MEDICAL</td>\n",
       "      <td>INPATIENT</td>\n",
       "      <td>...</td>\n",
       "      <td>0.00</td>\n",
       "      <td>2019-08-21</td>\n",
       "      <td>14:15:41</td>\n",
       "      <td>2019-08-01</td>\n",
       "      <td>15:00:53</td>\n",
       "      <td>E16.2</td>\n",
       "      <td>Hypoglycemia, unspecified</td>\n",
       "      <td>FEMALE</td>\n",
       "      <td>1967-04-20</td>\n",
       "      <td>54</td>\n",
       "    </tr>\n",
       "    <tr>\n",
       "      <th>12707</th>\n",
       "      <td>PAT1906N018042</td>\n",
       "      <td>H05VST1908N000391</td>\n",
       "      <td>H05BIL1908000911</td>\n",
       "      <td>DISCHARGE</td>\n",
       "      <td>2019-08-23 08:41:47.0000000</td>\n",
       "      <td>2019-06-01 16:00:02.000</td>\n",
       "      <td>-83.0</td>\n",
       "      <td>Days</td>\n",
       "      <td>MEDICAL</td>\n",
       "      <td>INPATIENT</td>\n",
       "      <td>...</td>\n",
       "      <td>0.00</td>\n",
       "      <td>2019-08-23</td>\n",
       "      <td>08:41:47</td>\n",
       "      <td>2019-06-01</td>\n",
       "      <td>16:00:02</td>\n",
       "      <td>A08.1</td>\n",
       "      <td>Acute gastroenteropathy due to Norwalk agent</td>\n",
       "      <td>FEMALE</td>\n",
       "      <td>1977-09-12</td>\n",
       "      <td>44</td>\n",
       "    </tr>\n",
       "    <tr>\n",
       "      <th>13788</th>\n",
       "      <td>PAT1812N002189</td>\n",
       "      <td>H05VST2108N000128</td>\n",
       "      <td>H05BIL2108000211</td>\n",
       "      <td>DISCHARGE</td>\n",
       "      <td>2021-08-12 09:40:57.0000000</td>\n",
       "      <td>2021-08-11 10:00:54.000</td>\n",
       "      <td>-1.0</td>\n",
       "      <td>Days</td>\n",
       "      <td>MEDICAL</td>\n",
       "      <td>INPATIENT</td>\n",
       "      <td>...</td>\n",
       "      <td>0.00</td>\n",
       "      <td>2021-08-12</td>\n",
       "      <td>09:40:57</td>\n",
       "      <td>2021-08-11</td>\n",
       "      <td>10:00:54</td>\n",
       "      <td>O36.0</td>\n",
       "      <td>Maternal care for rhesus isoimmunisation</td>\n",
       "      <td>FEMALE</td>\n",
       "      <td>1995-12-06</td>\n",
       "      <td>26</td>\n",
       "    </tr>\n",
       "    <tr>\n",
       "      <th>14933</th>\n",
       "      <td>PAT1906N002862</td>\n",
       "      <td>H05VST2105N000161</td>\n",
       "      <td>H05BIL2105000469</td>\n",
       "      <td>DISCHARGE</td>\n",
       "      <td>2021-05-16 21:41:32.0000000</td>\n",
       "      <td>2021-05-19 15:30:00.000</td>\n",
       "      <td>-1.0</td>\n",
       "      <td>Days</td>\n",
       "      <td>MEDICAL</td>\n",
       "      <td>INPATIENT</td>\n",
       "      <td>...</td>\n",
       "      <td>0.00</td>\n",
       "      <td>2021-05-20</td>\n",
       "      <td>21:41:32</td>\n",
       "      <td>2021-05-19</td>\n",
       "      <td>15:30:00</td>\n",
       "      <td>S72</td>\n",
       "      <td>Fracture of femur</td>\n",
       "      <td>FEMALE</td>\n",
       "      <td>1935-05-25</td>\n",
       "      <td>86</td>\n",
       "    </tr>\n",
       "  </tbody>\n",
       "</table>\n",
       "<p>65 rows × 35 columns</p>\n",
       "</div>"
      ],
      "text/plain": [
       "         Patient Number       Visit Number       Bill Number Admission Status  \\\n",
       "524      PAT2102N001585  H03VST2102N000029  H03BIL2102000029        DISCHARGE   \n",
       "527      PAT1811N026482  H03VST2102N000023  H03BIL2102000023        DISCHARGE   \n",
       "528      PAT2102N007052  H03VST2102N000021  H03BIL2102000021        DISCHARGE   \n",
       "783    PAT180822N000143  H03VST2009N000033  H03BIL2009000034        DISCHARGE   \n",
       "854      PAT2007N005933  H03VST2007N000029  H03BIL2007000031        DISCHARGE   \n",
       "...                 ...                ...               ...              ...   \n",
       "12520    PAT1908N005956  H05VST1908N000227  H05BIL1908000529        DISCHARGE   \n",
       "12668  PAT180727N001684  H05VST1908N000361  H05BIL1908000841        DISCHARGE   \n",
       "12707    PAT1906N018042  H05VST1908N000391  H05BIL1908000911        DISCHARGE   \n",
       "13788    PAT1812N002189  H05VST2108N000128  H05BIL2108000211        DISCHARGE   \n",
       "14933    PAT1906N002862  H05VST2105N000161  H05BIL2105000469        DISCHARGE   \n",
       "\n",
       "              Addmission Date Time      Discharge Date Time  Hospital Stay  \\\n",
       "524    2021-02-23 15:26:12.0000000  2021-02-19 10:00:59.000           -4.0   \n",
       "527    2021-02-23 14:59:43.0000000  2021-02-20 10:00:59.000           -3.0   \n",
       "528    2021-02-23 14:51:18.0000000  2021-02-19 10:00:59.000           -4.0   \n",
       "783    2020-09-29 16:53:19.0000000  2020-09-28 10:00:59.000           -1.0   \n",
       "854    2020-07-28 14:19:37.0000000  2020-07-01 16:00:57.000          -27.0   \n",
       "...                            ...                      ...            ...   \n",
       "12520  2019-08-14 03:47:35.0000000  2017-09-01 13:00:42.000         -712.0   \n",
       "12668  2019-08-21 14:15:41.0000000  2019-08-01 15:00:53.000          -20.0   \n",
       "12707  2019-08-23 08:41:47.0000000  2019-06-01 16:00:02.000          -83.0   \n",
       "13788  2021-08-12 09:40:57.0000000  2021-08-11 10:00:54.000           -1.0   \n",
       "14933  2021-05-16 21:41:32.0000000  2021-05-19 15:30:00.000           -1.0   \n",
       "\n",
       "       Stay       Ward  Bill Type  ... Total Amount Paid Addmission Date  \\\n",
       "524    Days    MEDICAL  INPATIENT  ...              0.00      2021-02-23   \n",
       "527    Days    MEDICAL  INPATIENT  ...              0.00      2021-02-23   \n",
       "528    Days    MEDICAL  INPATIENT  ...          10888.80      2021-02-23   \n",
       "783    Days    MEDICAL  INPATIENT  ...              0.00      2020-09-29   \n",
       "854    Days    MEDICAL  INPATIENT  ...          14022.36      2020-07-28   \n",
       "...     ...        ...        ...  ...               ...             ...   \n",
       "12520  Days  MATERNITY  INPATIENT  ...              0.00      2019-08-14   \n",
       "12668  Days    MEDICAL  INPATIENT  ...              0.00      2019-08-21   \n",
       "12707  Days    MEDICAL  INPATIENT  ...              0.00      2019-08-23   \n",
       "13788  Days    MEDICAL  INPATIENT  ...              0.00      2021-08-12   \n",
       "14933  Days    MEDICAL  INPATIENT  ...              0.00      2021-05-20   \n",
       "\n",
       "      Addmission Time Discharge Date Discharge Time  ICD10 code  \\\n",
       "524          15:26:12     2021-02-19       10:00:59       I50.0   \n",
       "527          14:59:43     2021-02-20       10:00:59         E04   \n",
       "528          14:51:18     2021-02-19       10:00:59       I50.0   \n",
       "783          16:53:19     2020-09-28       10:00:59         NaN   \n",
       "854          14:19:37     2020-07-01       16:00:57         D64   \n",
       "...               ...            ...            ...         ...   \n",
       "12520        03:47:35     2017-09-01       13:00:42       O80.0   \n",
       "12668        14:15:41     2019-08-01       15:00:53       E16.2   \n",
       "12707        08:41:47     2019-06-01       16:00:02       A08.1   \n",
       "13788        09:40:57     2021-08-11       10:00:54       O36.0   \n",
       "14933        21:41:32     2021-05-19       15:30:00         S72   \n",
       "\n",
       "                                     diagnosis name    name  date_of_birth  \\\n",
       "524                        Congestive heart failure  FEMALE     1937-06-05   \n",
       "527                           Other nontoxic goitre    MALE     1949-12-25   \n",
       "528                        Congestive heart failure    MALE     1959-10-23   \n",
       "783                                             NaN    MALE     1953-06-30   \n",
       "854                                  Other anaemias  FEMALE     1954-04-09   \n",
       "...                                             ...     ...            ...   \n",
       "12520                   Spontaneous vertex delivery  FEMALE     1996-01-24   \n",
       "12668                     Hypoglycemia, unspecified  FEMALE     1967-04-20   \n",
       "12707  Acute gastroenteropathy due to Norwalk agent  FEMALE     1977-09-12   \n",
       "13788      Maternal care for rhesus isoimmunisation  FEMALE     1995-12-06   \n",
       "14933                             Fracture of femur  FEMALE     1935-05-25   \n",
       "\n",
       "       Age  \n",
       "524     84  \n",
       "527     72  \n",
       "528     62  \n",
       "783     68  \n",
       "854     67  \n",
       "...    ...  \n",
       "12520   25  \n",
       "12668   54  \n",
       "12707   44  \n",
       "13788   26  \n",
       "14933   86  \n",
       "\n",
       "[65 rows x 35 columns]"
      ]
     },
     "execution_count": 20,
     "metadata": {},
     "output_type": "execute_result"
    }
   ],
   "source": [
    "# removing negative HAD\n",
    "df[df['Hospital Stay']<0]"
   ]
  },
  {
   "cell_type": "code",
   "execution_count": 21,
   "id": "f026e27b",
   "metadata": {},
   "outputs": [
    {
     "data": {
      "text/plain": [
       "count    12305.000000\n",
       "mean         4.742219\n",
       "std          8.838689\n",
       "min          1.000000\n",
       "25%          2.000000\n",
       "50%          3.000000\n",
       "75%          5.000000\n",
       "max        423.000000\n",
       "Name: Hospital Stay, dtype: float64"
      ]
     },
     "execution_count": 21,
     "metadata": {},
     "output_type": "execute_result"
    }
   ],
   "source": [
    "df['Hospital Stay'][df['Hospital Stay']>0].describe()"
   ]
  },
  {
   "cell_type": "code",
   "execution_count": 22,
   "id": "ee24a038",
   "metadata": {},
   "outputs": [],
   "source": [
    "df=df[df['Hospital Stay']>0]"
   ]
  },
  {
   "cell_type": "code",
   "execution_count": 23,
   "id": "24bee096",
   "metadata": {},
   "outputs": [
    {
     "data": {
      "image/png": "[encoded data removed]",
      "text/plain": [
       "<Figure size 432x288 with 1 Axes>"
      ]
     },
     "metadata": {
      "needs_background": "light"
     },
     "output_type": "display_data"
    }
   ],
   "source": [
    "plt.hist(df['Hospital Stay'], bins=200, color = '#55a868')\n",
    "plt.xlim(0, 50)\n",
    "plt.title('Distribution of LOS for all hospital admissions \\n incl. deceased')\n",
    "plt.ylabel('Count')\n",
    "plt.xlabel('Length-of-Stay (days)')\n",
    "plt.tick_params(top=False, right=False) \n",
    "plt.show();"
   ]
  },
  {
   "cell_type": "code",
   "execution_count": 24,
   "id": "92b8a17f",
   "metadata": {},
   "outputs": [
    {
     "data": {
      "text/plain": [
       "MEDICAL              5791\n",
       "MATERNITY            2851\n",
       "PAEDIATRIC           1330\n",
       "GENERAL               865\n",
       "SURGICAL              625\n",
       "HDU                   419\n",
       "NNU                   266\n",
       "MEDICAL EXTENSION      83\n",
       "ICU                    75\n",
       "Name: Ward, dtype: int64"
      ]
     },
     "execution_count": 24,
     "metadata": {},
     "output_type": "execute_result"
    }
   ],
   "source": [
    "df['Ward'].value_counts()"
   ]
  },
  {
   "cell_type": "code",
   "execution_count": 25,
   "id": "a99ed300",
   "metadata": {},
   "outputs": [
    {
     "data": {
      "image/png": "[encoded data removed]",
      "text/plain": [
       "<Figure size 432x288 with 1 Axes>"
      ]
     },
     "metadata": {
      "needs_background": "light"
     },
     "output_type": "display_data"
    }
   ],
   "source": [
    "plt.hist(df['name'], bins=200, color = '#55a868')\n",
    "plt.xlim(0, 50)\n",
    "plt.title('Distribution of LOS for all hospital admissions \\n incl. deceased')\n",
    "plt.ylabel('Count')\n",
    "plt.xlabel('Length-of-Stay (days)')\n",
    "plt.tick_params(top=False, right=False) \n",
    "plt.show();"
   ]
  },
  {
   "cell_type": "code",
   "execution_count": 26,
   "id": "616c46e7",
   "metadata": {},
   "outputs": [
    {
     "data": {
      "text/plain": [
       "INSURANCE           11015\n",
       "CASH                 1227\n",
       "SPECIAL_CONTRACT       63\n",
       "Name: Bill Category, dtype: int64"
      ]
     },
     "execution_count": 26,
     "metadata": {},
     "output_type": "execute_result"
    }
   ],
   "source": [
    "df['Bill Category'].value_counts()"
   ]
  },
  {
   "cell_type": "code",
   "execution_count": 29,
   "id": "cc296703",
   "metadata": {},
   "outputs": [
    {
     "data": {
      "image/png": "[encoded data removed]",
      "text/plain": [
       "<Figure size 576x288 with 1 Axes>"
      ]
     },
     "metadata": {
      "needs_background": "light"
     },
     "output_type": "display_data"
    }
   ],
   "source": [
    "# Re-usable plotting function\n",
    "def plot_los_groupby(variable, size=(7,4)):\n",
    "    ''' \n",
    "    Plot Median LOS by df categorical series name \n",
    "    '''\n",
    "    results = df[[variable, 'Hospital Stay']].groupby(variable).median().reset_index()\n",
    "    values = list(results['Hospital Stay'].values)\n",
    "    labels = list(results[variable].values)\n",
    "\n",
    "    fig, ax = plt.subplots(figsize=size)\n",
    "    ind = range(len(results))\n",
    "    ax.barh(ind, values, align='center', height=0.6, color = '#55a868', alpha=0.8)\n",
    "    ax.set_yticks(ind)\n",
    "    ax.set_yticklabels(labels)\n",
    "    ax.set_xlabel('Median Length of Stay (days)')\n",
    "    ax.tick_params(left=False, top=False, right=False) \n",
    "    ax.set_title('Comparison of {} labels'.format(variable))\n",
    "    \n",
    "    plt.tight_layout()\n",
    "    plt.show();\n",
    "    \n",
    "# Re-usable boxplot function\n",
    "def boxplot_los_groupby(variable, los_range=(-1, 30), size=(8,4)):\n",
    "    ''' \n",
    "    Boxplot of LOS by df categorical series name \n",
    "    '''\n",
    "    results = df[[variable, 'Hospital Stay']].groupby(variable).median().reset_index()\n",
    "\n",
    "    categories = results[variable].values.tolist()\n",
    "\n",
    "    hist_data = []\n",
    "    for cat in categories:\n",
    "        hist_data.append(df['Hospital Stay'].loc[df[variable]==cat].values)\n",
    "\n",
    "    fig, ax = plt.subplots(figsize=size)\n",
    "    ax.boxplot(hist_data, 0, '', vert=False)\n",
    "    ax.set_xlim(los_range)\n",
    "    ax.set_yticklabels(categories)\n",
    "    ax.set_xlabel('Length of Stay (days)')\n",
    "    ax.tick_params(left=False, right=False) \n",
    "    ax.set_title('Comparison of {} categories'.format(variable))\n",
    "    plt.tight_layout()\n",
    "    plt.show();\n",
    "\n",
    "boxplot_los_groupby('Ward', los_range=(-1, 30))"
   ]
  },
  {
   "cell_type": "code",
   "execution_count": 30,
   "id": "98ee0227",
   "metadata": {},
   "outputs": [
    {
     "data": {
      "image/png": "[encoded data removed]",
      "text/plain": [
       "<Figure size 360x288 with 1 Axes>"
      ]
     },
     "metadata": {
      "needs_background": "light"
     },
     "output_type": "display_data"
    }
   ],
   "source": [
    "plot_los_groupby('name', size=(5,4))"
   ]
  },
  {
   "cell_type": "code",
   "execution_count": 31,
   "id": "e5c2bbe3",
   "metadata": {},
   "outputs": [
    {
     "data": {
      "image/png": "[encoded data removed]",
      "text/plain": [
       "<Figure size 360x288 with 1 Axes>"
      ]
     },
     "metadata": {
      "needs_background": "light"
     },
     "output_type": "display_data"
    }
   ],
   "source": [
    "plot_los_groupby('Bill Category', size=(5,4))"
   ]
  },
  {
   "cell_type": "code",
   "execution_count": 32,
   "id": "e864e285",
   "metadata": {},
   "outputs": [
    {
     "data": {
      "image/png": "[encoded data removed]",
      "text/plain": [
       "<Figure size 576x288 with 1 Axes>"
      ]
     },
     "metadata": {
      "needs_background": "light"
     },
     "output_type": "display_data"
    }
   ],
   "source": [
    "boxplot_los_groupby('Bill Category', los_range=(-1, 30))"
   ]
  },
  {
   "cell_type": "markdown",
   "id": "ee85fa58",
   "metadata": {},
   "source": [
    "#Diagnoses\n",
    "\n",
    "ICD-10 chapters\n",
    "Chapter\tBlock\tTitle\n",
    "I\tA00–B99\tCertain infectious and parasitic diseases\n",
    "II\tC00–D48\tNeoplasms\n",
    "III\tD50–D89\tDiseases of the blood and blood-forming organs and certain disorders involving the immune mechanism\n",
    "IV\tE00–E90\tEndocrine, nutritional and metabolic diseases\n",
    "V\tF00–F99\tMental and behavioural disorders\n",
    "VI\tG00–G99\tDiseases of the nervous system\n",
    "VII\tH00–H59\tDiseases of the eye and adnexa\n",
    "VIII\tH60–H95\tDiseases of the ear and mastoid process\n",
    "IX\tI00–I99\tDiseases of the circulatory system\n",
    "X\tJ00–J99\tDiseases of the respiratory system\n",
    "XI\tK00–K93\tDiseases of the digestive system\n",
    "XII\tL00–L99\tDiseases of the skin and subcutaneous tissue\n",
    "XIII\tM00–M99\tDiseases of the musculoskeletal system and connective tissue\n",
    "XIV\tN00–N99\tDiseases of the genitourinary system\n",
    "XV\tO00–O99\tPregnancy, childbirth and the puerperium\n",
    "XVI\tP00–P96\tCertain conditions originating in the perinatal period\n",
    "XVII\tQ00–Q99\tCongenital malformations, deformations and chromosomal abnormalities\n",
    "XVIII\tR00–R99\tSymptoms, signs and abnormal clinical and laboratory findings, not elsewhere classified\n",
    "XIX\tS00–T98\tInjury, poisoning and certain other consequences of external causes\n",
    "XX\tV01–Y98\tExternal causes of morbidity and mortality\n",
    "XXI\tZ00–Z99\tFactors influencing health status and contact with health services\n",
    "XXII\tU00–U99\tCodes for special purposes\n"
   ]
  },
  {
   "cell_type": "code",
   "execution_count": 35,
   "id": "aafda5b0",
   "metadata": {},
   "outputs": [
    {
     "data": {
      "text/plain": [
       "O80.0     1052\n",
       "I10        633\n",
       "E118       330\n",
       "O82.1      273\n",
       "O82.0      250\n",
       "          ... \n",
       "K26.1        1\n",
       "H10          1\n",
       "M24.50       1\n",
       "S20.2        1\n",
       "F95.0        1\n",
       "Name: ICD10 code, Length: 1590, dtype: int64"
      ]
     },
     "execution_count": 35,
     "metadata": {},
     "output_type": "execute_result"
    }
   ],
   "source": [
    "df['ICD10 code'].value_counts()"
   ]
  },
  {
   "cell_type": "code",
   "execution_count": 40,
   "id": "eaf4d800",
   "metadata": {},
   "outputs": [
    {
     "data": {
      "text/plain": [
       "Pregnancy, childbirth and the puerperium                                3201\n",
       "Diseases of the circulatory system                                      1700\n",
       "Diseases of the respiratory system                                      1377\n",
       "Diseases of the digestive system                                        1324\n",
       "Endocrine, nutritional and metabolic diseases                           1051\n",
       "Certain infectious and parasitic diseases                                899\n",
       "abnormal clinical and laboratory findings                                818\n",
       "Diseases of the genitourinary system                                     725\n",
       "Injury, poisoning and certain other consequences of external causes      556\n",
       "Diseases of the musculoskeletal system and connective tissue             532\n",
       "Neoplasms                                                                519\n",
       "Diseases of the blood and blood-forming organs                           422\n",
       "Certain conditions originating in the perinatal period                   279\n",
       "Diseases of the nervous system                                           265\n",
       "Diseases of the skin and subcutaneous tissue                             190\n",
       "Factors influencing health status and contact with health services       116\n",
       "Codes for special purposes                                               110\n",
       "Mental and behavioural disorders                                          69\n",
       "Congenital malformations, deformations and chromosomal abnormalities      65\n",
       "External causes of morbidity and mortality                                45\n",
       "Diseases of the eye and adnexa                                            32\n",
       "Diseases of the ear and mastoid process                                   23\n",
       "Name: Diagnosis, dtype: int64"
      ]
     },
     "execution_count": 40,
     "metadata": {},
     "output_type": "execute_result"
    }
   ],
   "source": [
    "df['Diagnosis'].value_counts()"
   ]
  },
  {
   "cell_type": "code",
   "execution_count": 41,
   "id": "87b4afff",
   "metadata": {},
   "outputs": [
    {
     "data": {
      "image/png": "[encoded data removed]",
      "text/plain": [
       "<Figure size 576x288 with 1 Axes>"
      ]
     },
     "metadata": {
      "needs_background": "light"
     },
     "output_type": "display_data"
    }
   ],
   "source": [
    "boxplot_los_groupby('Diagnosis', los_range=(-1, 30))"
   ]
  },
  {
   "cell_type": "code",
   "execution_count": 42,
   "id": "3f8b7ecb",
   "metadata": {},
   "outputs": [
    {
     "name": "stderr",
     "output_type": "stream",
     "text": [
      "<ipython-input-29-7b4daca6235c>:19: UserWarning: Tight layout not applied. The left and right margins cannot be made large enough to accommodate all axes decorations. \n",
      "  plt.tight_layout()\n"
     ]
    },
    {
     "data": {
      "image/png": "[encoded data removed]",
      "text/plain": [
       "<Figure size 360x288 with 1 Axes>"
      ]
     },
     "metadata": {
      "needs_background": "light"
     },
     "output_type": "display_data"
    }
   ],
   "source": [
    "plot_los_groupby('Diagnosis', size=(5,4))"
   ]
  },
  {
   "cell_type": "code",
   "execution_count": 43,
   "id": "f2c7e2a2",
   "metadata": {},
   "outputs": [
    {
     "data": {
      "text/plain": [
       "FEMALE    9961\n",
       "MALE      5145\n",
       "OTHER        1\n",
       "Name: name, dtype: int64"
      ]
     },
     "execution_count": 43,
     "metadata": {},
     "output_type": "execute_result"
    }
   ],
   "source": [
    "df['name'].value_counts()"
   ]
  },
  {
   "cell_type": "code",
   "execution_count": 44,
   "id": "0d1c7eec",
   "metadata": {},
   "outputs": [
    {
     "data": {
      "image/png": "[encoded data removed]",
      "text/plain": [
       "<Figure size 432x288 with 1 Axes>"
      ]
     },
     "metadata": {
      "needs_background": "light"
     },
     "output_type": "display_data"
    }
   ],
   "source": [
    "# Note that no ‘middle’ patients show up - this reflects the fact that MIMIC-III does not contain data from pediatric patients.\n",
    "plt.hist(df['name'], bins=20, color='#c44e52')\n",
    "plt.ylabel('Count')\n",
    "plt.xlabel('Age (years)')\n",
    "plt.title('Distribution of Gender in PSMI Hospitals')\n",
    "plt.tick_params(left=False, bottom=False, top=False, right=False) \n",
    "plt.show();"
   ]
  },
  {
   "cell_type": "code",
   "execution_count": 45,
   "id": "74358db0",
   "metadata": {},
   "outputs": [
    {
     "data": {
      "image/png": "[encoded data removed]",
      "text/plain": [
       "<Figure size 432x288 with 1 Axes>"
      ]
     },
     "metadata": {
      "needs_background": "light"
     },
     "output_type": "display_data"
    }
   ],
   "source": [
    "# Note that no ‘middle’ patients show up - this reflects the fact that MIMIC-III does not contain data from pediatric patients.\n",
    "plt.hist(df['Age'], bins=20, color='#c44e52')\n",
    "plt.ylabel('Count')\n",
    "plt.xlabel('Age (years)')\n",
    "plt.title('Distribution of Age in PSMI Hospitals')\n",
    "plt.tick_params(left=False, bottom=False, top=False, right=False) \n",
    "plt.show();"
   ]
  },
  {
   "cell_type": "code",
   "execution_count": 46,
   "id": "ddba6bfc",
   "metadata": {},
   "outputs": [
    {
     "data": {
      "text/plain": [
       "(1.0, 50.0)"
      ]
     },
     "execution_count": 46,
     "metadata": {},
     "output_type": "execute_result"
    },
    {
     "data": {
      "image/png": "[encoded data removed]",
      "text/plain": [
       "<Figure size 432x288 with 1 Axes>"
      ]
     },
     "metadata": {
      "needs_background": "light"
     },
     "output_type": "display_data"
    }
   ],
   "source": [
    "plt.scatter(df['Age'], df['Hospital Stay'], alpha=0.005)\n",
    "#plt.yscale('sqrt')\n",
    "plt.ylabel('LOS (days)')\n",
    "plt.xlabel('Age (years)')\n",
    "plt.title('Age versus Length-of-stay')\n",
    "plt.ylim(1, 50)"
   ]
  },
  {
   "cell_type": "markdown",
   "id": "02b65c0c",
   "metadata": {},
   "source": [
    "### Data Preprocessing\n"
   ]
  },
  {
   "cell_type": "code",
   "execution_count": 47,
   "id": "7b7444ef",
   "metadata": {},
   "outputs": [],
   "source": [
    "df=df[df['Hospital Stay']>0]"
   ]
  },
  {
   "cell_type": "code",
   "execution_count": 49,
   "id": "4539c1a8",
   "metadata": {},
   "outputs": [
    {
     "data": {
      "text/plain": [
       "Index(['Patient Number', 'Visit Number', 'Diagnosis', 'ICD10 code',\n",
       "       'Admission Status', 'Addmission Date Time', 'Discharge Date Time',\n",
       "       'Hospital Stay', 'Stay', 'Ward', 'Bill Type', 'Bill Category',\n",
       "       'Insurance', 'Admission Doctor', 'Visit created by', 'Discharge Doctor',\n",
       "       'Gross Bill Amount', 'Authorizaion Number', 'Authorisation Amount',\n",
       "       'Insurance Payable', 'Cash Payable', 'Shortfall Payable',\n",
       "       'Special Contract Payable', 'Total Cash/Shortfall Payable',\n",
       "       'Total Cash/Shortfall Paid', 'Total Amount Payable',\n",
       "       'Total Amount Paid', 'Addmission Date', 'Addmission Time',\n",
       "       'Discharge Date', 'Discharge Time', 'ICD10 code.1', 'diagnosis name',\n",
       "       'name', 'date_of_birth', 'Age'],\n",
       "      dtype='object')"
      ]
     },
     "execution_count": 49,
     "metadata": {},
     "output_type": "execute_result"
    }
   ],
   "source": [
    "df.columns"
   ]
  },
  {
   "cell_type": "code",
   "execution_count": 54,
   "id": "c8ed5085",
   "metadata": {},
   "outputs": [
    {
     "name": "stdout",
     "output_type": "stream",
     "text": [
      "<class 'pandas.core.frame.DataFrame'>\n",
      "Int64Index: 12305 entries, 0 to 15106\n",
      "Data columns (total 36 columns):\n",
      " #   Column                        Non-Null Count  Dtype         \n",
      "---  ------                        --------------  -----         \n",
      " 0   Patient Number                12305 non-null  object        \n",
      " 1   Visit Number                  12305 non-null  object        \n",
      " 2   Diagnosis                     12054 non-null  object        \n",
      " 3   ICD10 code                    12054 non-null  object        \n",
      " 4   Admission Status              12305 non-null  object        \n",
      " 5   Addmission Date Time          12305 non-null  object        \n",
      " 6   Discharge Date Time           12305 non-null  object        \n",
      " 7   Hospital Stay                 12305 non-null  float64       \n",
      " 8   Stay                          12305 non-null  object        \n",
      " 9   Ward                          12305 non-null  object        \n",
      " 10  Bill Type                     12305 non-null  object        \n",
      " 11  Bill Category                 12305 non-null  object        \n",
      " 12  Insurance                     12305 non-null  object        \n",
      " 13  Admission Doctor              12304 non-null  object        \n",
      " 14  Visit created by              12305 non-null  object        \n",
      " 15  Discharge Doctor              12305 non-null  object        \n",
      " 16  Gross Bill Amount             12305 non-null  float64       \n",
      " 17  Authorizaion Number           12305 non-null  object        \n",
      " 18  Authorisation Amount          12305 non-null  float64       \n",
      " 19  Insurance Payable             12305 non-null  float64       \n",
      " 20  Cash Payable                  12305 non-null  float64       \n",
      " 21  Shortfall Payable             12305 non-null  float64       \n",
      " 22  Special Contract Payable      12305 non-null  float64       \n",
      " 23  Total Cash/Shortfall Payable  12305 non-null  float64       \n",
      " 24  Total Cash/Shortfall Paid     12305 non-null  float64       \n",
      " 25  Total Amount Payable          12305 non-null  float64       \n",
      " 26  Total Amount Paid             12305 non-null  float64       \n",
      " 27  Addmission Date               12305 non-null  datetime64[ns]\n",
      " 28  Addmission Time               12305 non-null  object        \n",
      " 29  Discharge Date                12305 non-null  datetime64[ns]\n",
      " 30  Discharge Time                12305 non-null  object        \n",
      " 31  ICD10 code.1                  12054 non-null  object        \n",
      " 32  diagnosis name                12054 non-null  object        \n",
      " 33  name                          12305 non-null  object        \n",
      " 34  date_of_birth                 12305 non-null  datetime64[ns]\n",
      " 35  Age                           12305 non-null  int64         \n",
      "dtypes: datetime64[ns](3), float64(11), int64(1), object(21)\n",
      "memory usage: 3.5+ MB\n"
     ]
    }
   ],
   "source": [
    "df.info()"
   ]
  },
  {
   "cell_type": "code",
   "execution_count": 71,
   "id": "4f74ec51",
   "metadata": {},
   "outputs": [],
   "source": [
    "newdf = df.drop(['Patient Number','Visit Number','Bill Type','Addmission Date Time',\n",
    "                 'Discharge Date Time','Visit created by','Authorizaion Number','Authorisation Amount',\n",
    "                 'Insurance Payable','Cash Payable','Shortfall Payable','Special Contract Payable',\n",
    "                 'Total Cash/Shortfall Payable','Total Cash/Shortfall Paid',\n",
    "                 'Total Amount Payable','Total Amount Paid','Addmission Date',\n",
    "                 'Discharge Date','date_of_birth','Admission Status','ICD10 code','Stay','Insurance','Discharge Doctor','Gross Bill Amount','Addmission Time',\n",
    "              'Discharge Time','ICD10 code.1','diagnosis name'], axis =1)"
   ]
  },
  {
   "cell_type": "code",
   "execution_count": 72,
   "id": "bdcdd122",
   "metadata": {},
   "outputs": [
    {
     "name": "stdout",
     "output_type": "stream",
     "text": [
      "<class 'pandas.core.frame.DataFrame'>\n",
      "Int64Index: 12305 entries, 0 to 15106\n",
      "Data columns (total 7 columns):\n",
      " #   Column            Non-Null Count  Dtype  \n",
      "---  ------            --------------  -----  \n",
      " 0   Diagnosis         12054 non-null  object \n",
      " 1   Hospital Stay     12305 non-null  float64\n",
      " 2   Ward              12305 non-null  object \n",
      " 3   Bill Category     12305 non-null  object \n",
      " 4   Admission Doctor  12304 non-null  object \n",
      " 5   name              12305 non-null  object \n",
      " 6   Age               12305 non-null  int64  \n",
      "dtypes: float64(1), int64(1), object(5)\n",
      "memory usage: 769.1+ KB\n"
     ]
    }
   ],
   "source": [
    "newdf.info()"
   ]
  },
  {
   "cell_type": "code",
   "execution_count": 75,
   "id": "0ea1adbb",
   "metadata": {},
   "outputs": [],
   "source": [
    "from sklearn.preprocessing import MinMaxScaler\n",
    "from sklearn.preprocessing import LabelEncoder\n",
    "from sklearn.metrics import confusion_matrix, classification_report\n",
    "le=LabelEncoder()\n",
    "for cl in newdf.select_dtypes(include=['object']).columns:\n",
    "    newdf[cl]=le.fit_transform(newdf[cl])"
   ]
  },
  {
   "cell_type": "code",
   "execution_count": 100,
   "id": "c31b9ee1",
   "metadata": {},
   "outputs": [
    {
     "data": {
      "text/html": [
       "<div>\n",
       "<style scoped>\n",
       "    .dataframe tbody tr th:only-of-type {\n",
       "        vertical-align: middle;\n",
       "    }\n",
       "\n",
       "    .dataframe tbody tr th {\n",
       "        vertical-align: top;\n",
       "    }\n",
       "\n",
       "    .dataframe thead th {\n",
       "        text-align: right;\n",
       "    }\n",
       "</style>\n",
       "<table border=\"1\" class=\"dataframe\">\n",
       "  <thead>\n",
       "    <tr style=\"text-align: right;\">\n",
       "      <th></th>\n",
       "      <th>Patient Number</th>\n",
       "      <th>Visit Number</th>\n",
       "      <th>Diagnosis</th>\n",
       "      <th>ICD10 code</th>\n",
       "      <th>Admission Status</th>\n",
       "      <th>Addmission Date Time</th>\n",
       "      <th>Discharge Date Time</th>\n",
       "      <th>Hospital Stay</th>\n",
       "      <th>Stay</th>\n",
       "      <th>Ward</th>\n",
       "      <th>...</th>\n",
       "      <th>Total Amount Paid</th>\n",
       "      <th>Addmission Date</th>\n",
       "      <th>Addmission Time</th>\n",
       "      <th>Discharge Date</th>\n",
       "      <th>Discharge Time</th>\n",
       "      <th>ICD10 code.1</th>\n",
       "      <th>diagnosis name</th>\n",
       "      <th>name</th>\n",
       "      <th>date_of_birth</th>\n",
       "      <th>Age</th>\n",
       "    </tr>\n",
       "  </thead>\n",
       "  <tbody>\n",
       "    <tr>\n",
       "      <th>0</th>\n",
       "      <td>PAT1909N007869</td>\n",
       "      <td>H03VST1909N000195</td>\n",
       "      <td>abnormal clinical and laboratory findings</td>\n",
       "      <td>2</td>\n",
       "      <td>DISCHARGE</td>\n",
       "      <td>2019-09-30 16:38:54.0000000</td>\n",
       "      <td>2019-10-07 10:00:00.000</td>\n",
       "      <td>7.0</td>\n",
       "      <td>Days</td>\n",
       "      <td>MEDICAL</td>\n",
       "      <td>...</td>\n",
       "      <td>0.0</td>\n",
       "      <td>2019-09-30</td>\n",
       "      <td>16:38:54</td>\n",
       "      <td>2019-10-07</td>\n",
       "      <td>10:00:00</td>\n",
       "      <td>2</td>\n",
       "      <td>Gangrene, not elsewhere classified</td>\n",
       "      <td>MALE</td>\n",
       "      <td>1979-04-23</td>\n",
       "      <td>42</td>\n",
       "    </tr>\n",
       "    <tr>\n",
       "      <th>1</th>\n",
       "      <td>PAT1903N025021</td>\n",
       "      <td>H02VST1905N000036</td>\n",
       "      <td>abnormal clinical and laboratory findings</td>\n",
       "      <td>2</td>\n",
       "      <td>DISCHARGE</td>\n",
       "      <td>2019-05-06 12:58:48.0000000</td>\n",
       "      <td>2019-05-22 14:00:00.000</td>\n",
       "      <td>16.0</td>\n",
       "      <td>Days</td>\n",
       "      <td>MEDICAL</td>\n",
       "      <td>...</td>\n",
       "      <td>0.0</td>\n",
       "      <td>2019-05-06</td>\n",
       "      <td>12:58:48</td>\n",
       "      <td>2019-05-22</td>\n",
       "      <td>14:00:00</td>\n",
       "      <td>2</td>\n",
       "      <td>Gangrene, not elsewhere classified</td>\n",
       "      <td>FEMALE</td>\n",
       "      <td>1938-06-14</td>\n",
       "      <td>83</td>\n",
       "    </tr>\n",
       "    <tr>\n",
       "      <th>2</th>\n",
       "      <td>PAT1903N025021</td>\n",
       "      <td>H02VST1905N000150</td>\n",
       "      <td>abnormal clinical and laboratory findings</td>\n",
       "      <td>2</td>\n",
       "      <td>DISCHARGE</td>\n",
       "      <td>2019-05-24 19:54:19.0000000</td>\n",
       "      <td>2019-05-25 15:00:28.000</td>\n",
       "      <td>1.0</td>\n",
       "      <td>Days</td>\n",
       "      <td>MEDICAL</td>\n",
       "      <td>...</td>\n",
       "      <td>1000.0</td>\n",
       "      <td>2019-05-24</td>\n",
       "      <td>19:54:19</td>\n",
       "      <td>2019-05-25</td>\n",
       "      <td>15:00:28</td>\n",
       "      <td>2</td>\n",
       "      <td>Gangrene, not elsewhere classified</td>\n",
       "      <td>FEMALE</td>\n",
       "      <td>1938-06-14</td>\n",
       "      <td>83</td>\n",
       "    </tr>\n",
       "    <tr>\n",
       "      <th>3</th>\n",
       "      <td>PAT1811N023429</td>\n",
       "      <td>H03VST2003N000005</td>\n",
       "      <td>abnormal clinical and laboratory findings</td>\n",
       "      <td>5</td>\n",
       "      <td>DISCHARGE</td>\n",
       "      <td>2020-03-01 19:06:35.0000000</td>\n",
       "      <td>2020-03-07 10:00:03.000</td>\n",
       "      <td>6.0</td>\n",
       "      <td>Days</td>\n",
       "      <td>MEDICAL</td>\n",
       "      <td>...</td>\n",
       "      <td>0.0</td>\n",
       "      <td>2020-03-01</td>\n",
       "      <td>19:06:35</td>\n",
       "      <td>2020-03-07</td>\n",
       "      <td>10:00:03</td>\n",
       "      <td>5</td>\n",
       "      <td>Cough</td>\n",
       "      <td>FEMALE</td>\n",
       "      <td>1947-08-29</td>\n",
       "      <td>74</td>\n",
       "    </tr>\n",
       "    <tr>\n",
       "      <th>4</th>\n",
       "      <td>PAT1904N017198</td>\n",
       "      <td>H03VST2002N000046</td>\n",
       "      <td>abnormal clinical and laboratory findings</td>\n",
       "      <td>5</td>\n",
       "      <td>DISCHARGE</td>\n",
       "      <td>2020-02-12 13:23:19.0000000</td>\n",
       "      <td>2020-02-19 16:00:57.000</td>\n",
       "      <td>7.0</td>\n",
       "      <td>Days</td>\n",
       "      <td>MEDICAL</td>\n",
       "      <td>...</td>\n",
       "      <td>0.0</td>\n",
       "      <td>2020-02-12</td>\n",
       "      <td>13:23:19</td>\n",
       "      <td>2020-02-19</td>\n",
       "      <td>16:00:57</td>\n",
       "      <td>5</td>\n",
       "      <td>Cough</td>\n",
       "      <td>FEMALE</td>\n",
       "      <td>1995-01-25</td>\n",
       "      <td>26</td>\n",
       "    </tr>\n",
       "  </tbody>\n",
       "</table>\n",
       "<p>5 rows × 36 columns</p>\n",
       "</div>"
      ],
      "text/plain": [
       "   Patient Number       Visit Number  \\\n",
       "0  PAT1909N007869  H03VST1909N000195   \n",
       "1  PAT1903N025021  H02VST1905N000036   \n",
       "2  PAT1903N025021  H02VST1905N000150   \n",
       "3  PAT1811N023429  H03VST2003N000005   \n",
       "4  PAT1904N017198  H03VST2002N000046   \n",
       "\n",
       "                                   Diagnosis ICD10 code Admission Status  \\\n",
       "0  abnormal clinical and laboratory findings          2        DISCHARGE   \n",
       "1  abnormal clinical and laboratory findings          2        DISCHARGE   \n",
       "2  abnormal clinical and laboratory findings          2        DISCHARGE   \n",
       "3  abnormal clinical and laboratory findings          5        DISCHARGE   \n",
       "4  abnormal clinical and laboratory findings          5        DISCHARGE   \n",
       "\n",
       "          Addmission Date Time      Discharge Date Time  Hospital Stay  Stay  \\\n",
       "0  2019-09-30 16:38:54.0000000  2019-10-07 10:00:00.000            7.0  Days   \n",
       "1  2019-05-06 12:58:48.0000000  2019-05-22 14:00:00.000           16.0  Days   \n",
       "2  2019-05-24 19:54:19.0000000  2019-05-25 15:00:28.000            1.0  Days   \n",
       "3  2020-03-01 19:06:35.0000000  2020-03-07 10:00:03.000            6.0  Days   \n",
       "4  2020-02-12 13:23:19.0000000  2020-02-19 16:00:57.000            7.0  Days   \n",
       "\n",
       "      Ward  ... Total Amount Paid Addmission Date Addmission Time  \\\n",
       "0  MEDICAL  ...               0.0      2019-09-30        16:38:54   \n",
       "1  MEDICAL  ...               0.0      2019-05-06        12:58:48   \n",
       "2  MEDICAL  ...            1000.0      2019-05-24        19:54:19   \n",
       "3  MEDICAL  ...               0.0      2020-03-01        19:06:35   \n",
       "4  MEDICAL  ...               0.0      2020-02-12        13:23:19   \n",
       "\n",
       "  Discharge Date Discharge Time ICD10 code.1  \\\n",
       "0     2019-10-07       10:00:00            2   \n",
       "1     2019-05-22       14:00:00            2   \n",
       "2     2019-05-25       15:00:28            2   \n",
       "3     2020-03-07       10:00:03            5   \n",
       "4     2020-02-19       16:00:57            5   \n",
       "\n",
       "                       diagnosis name    name  date_of_birth  Age  \n",
       "0  Gangrene, not elsewhere classified    MALE     1979-04-23   42  \n",
       "1  Gangrene, not elsewhere classified  FEMALE     1938-06-14   83  \n",
       "2  Gangrene, not elsewhere classified  FEMALE     1938-06-14   83  \n",
       "3                               Cough  FEMALE     1947-08-29   74  \n",
       "4                               Cough  FEMALE     1995-01-25   26  \n",
       "\n",
       "[5 rows x 36 columns]"
      ]
     },
     "execution_count": 100,
     "metadata": {},
     "output_type": "execute_result"
    }
   ],
   "source": [
    "newdf.head()"
   ]
  },
  {
   "cell_type": "code",
   "execution_count": 98,
   "id": "e02d64a0",
   "metadata": {},
   "outputs": [],
   "source": [
    "newdf = df.astype({\"Age\": object})"
   ]
  },
  {
   "cell_type": "code",
   "execution_count": 99,
   "id": "a5513309",
   "metadata": {},
   "outputs": [
    {
     "name": "stdout",
     "output_type": "stream",
     "text": [
      "<class 'pandas.core.frame.DataFrame'>\n",
      "Int64Index: 12305 entries, 0 to 15106\n",
      "Data columns (total 36 columns):\n",
      " #   Column                        Non-Null Count  Dtype         \n",
      "---  ------                        --------------  -----         \n",
      " 0   Patient Number                12305 non-null  object        \n",
      " 1   Visit Number                  12305 non-null  object        \n",
      " 2   Diagnosis                     12054 non-null  object        \n",
      " 3   ICD10 code                    12054 non-null  object        \n",
      " 4   Admission Status              12305 non-null  object        \n",
      " 5   Addmission Date Time          12305 non-null  object        \n",
      " 6   Discharge Date Time           12305 non-null  object        \n",
      " 7   Hospital Stay                 12305 non-null  float64       \n",
      " 8   Stay                          12305 non-null  object        \n",
      " 9   Ward                          12305 non-null  object        \n",
      " 10  Bill Type                     12305 non-null  object        \n",
      " 11  Bill Category                 12305 non-null  object        \n",
      " 12  Insurance                     12305 non-null  object        \n",
      " 13  Admission Doctor              12304 non-null  object        \n",
      " 14  Visit created by              12305 non-null  object        \n",
      " 15  Discharge Doctor              12305 non-null  object        \n",
      " 16  Gross Bill Amount             12305 non-null  float64       \n",
      " 17  Authorizaion Number           12305 non-null  object        \n",
      " 18  Authorisation Amount          12305 non-null  float64       \n",
      " 19  Insurance Payable             12305 non-null  float64       \n",
      " 20  Cash Payable                  12305 non-null  float64       \n",
      " 21  Shortfall Payable             12305 non-null  float64       \n",
      " 22  Special Contract Payable      12305 non-null  float64       \n",
      " 23  Total Cash/Shortfall Payable  12305 non-null  float64       \n",
      " 24  Total Cash/Shortfall Paid     12305 non-null  float64       \n",
      " 25  Total Amount Payable          12305 non-null  float64       \n",
      " 26  Total Amount Paid             12305 non-null  float64       \n",
      " 27  Addmission Date               12305 non-null  datetime64[ns]\n",
      " 28  Addmission Time               12305 non-null  object        \n",
      " 29  Discharge Date                12305 non-null  datetime64[ns]\n",
      " 30  Discharge Time                12305 non-null  object        \n",
      " 31  ICD10 code.1                  12054 non-null  object        \n",
      " 32  diagnosis name                12054 non-null  object        \n",
      " 33  name                          12305 non-null  object        \n",
      " 34  date_of_birth                 12305 non-null  datetime64[ns]\n",
      " 35  Age                           12305 non-null  object        \n",
      "dtypes: datetime64[ns](3), float64(11), object(22)\n",
      "memory usage: 3.5+ MB\n"
     ]
    }
   ],
   "source": [
    "newdf.info()"
   ]
  },
  {
   "cell_type": "code",
   "execution_count": 97,
   "id": "dcd3ce7c",
   "metadata": {},
   "outputs": [
    {
     "ename": "TypeError",
     "evalue": "int() argument must be a string, a bytes-like object or a number, not 'list'",
     "output_type": "error",
     "traceback": [
      "\u001b[1;31m---------------------------------------------------------------------------\u001b[0m",
      "\u001b[1;31mTypeError\u001b[0m                                 Traceback (most recent call last)",
      "\u001b[1;32m<ipython-input-97-e4303650b951>\u001b[0m in \u001b[0;36m<module>\u001b[1;34m\u001b[0m\n\u001b[1;32m----> 1\u001b[1;33m \u001b[0mage_ranges\u001b[0m \u001b[1;33m=\u001b[0m \u001b[0mint\u001b[0m\u001b[1;33m(\u001b[0m\u001b[1;33m[\u001b[0m\u001b[1;33m(\u001b[0m\u001b[1;36m0\u001b[0m\u001b[1;33m,\u001b[0m \u001b[1;36m13\u001b[0m\u001b[1;33m)\u001b[0m\u001b[1;33m,\u001b[0m \u001b[1;33m(\u001b[0m\u001b[1;36m13\u001b[0m\u001b[1;33m,\u001b[0m \u001b[1;36m36\u001b[0m\u001b[1;33m)\u001b[0m\u001b[1;33m,\u001b[0m \u001b[1;33m(\u001b[0m\u001b[1;36m36\u001b[0m\u001b[1;33m,\u001b[0m \u001b[1;36m56\u001b[0m\u001b[1;33m)\u001b[0m\u001b[1;33m,\u001b[0m \u001b[1;33m(\u001b[0m\u001b[1;36m56\u001b[0m\u001b[1;33m,\u001b[0m \u001b[1;36m100\u001b[0m\u001b[1;33m)\u001b[0m\u001b[1;33m]\u001b[0m\u001b[1;33m)\u001b[0m\u001b[1;33m\u001b[0m\u001b[1;33m\u001b[0m\u001b[0m\n\u001b[0m\u001b[0;32m      2\u001b[0m \u001b[1;32mfor\u001b[0m \u001b[0mnum\u001b[0m\u001b[1;33m,\u001b[0m \u001b[0mcat_range\u001b[0m \u001b[1;32min\u001b[0m \u001b[0menumerate\u001b[0m\u001b[1;33m(\u001b[0m\u001b[0mage_ranges\u001b[0m\u001b[1;33m)\u001b[0m\u001b[1;33m:\u001b[0m\u001b[1;33m\u001b[0m\u001b[1;33m\u001b[0m\u001b[0m\n\u001b[0;32m      3\u001b[0m     \u001b[0mnewdf\u001b[0m\u001b[1;33m[\u001b[0m\u001b[1;34m'Age'\u001b[0m\u001b[1;33m]\u001b[0m \u001b[1;33m=\u001b[0m \u001b[0mnp\u001b[0m\u001b[1;33m.\u001b[0m\u001b[0mwhere\u001b[0m\u001b[1;33m(\u001b[0m\u001b[0mnewdf\u001b[0m\u001b[1;33m[\u001b[0m\u001b[1;34m'Age'\u001b[0m\u001b[1;33m]\u001b[0m\u001b[1;33m.\u001b[0m\u001b[0mbetween\u001b[0m\u001b[1;33m(\u001b[0m\u001b[0mcat_range\u001b[0m\u001b[1;33m[\u001b[0m\u001b[1;36m0\u001b[0m\u001b[1;33m]\u001b[0m\u001b[1;33m,\u001b[0m\u001b[0mcat_range\u001b[0m\u001b[1;33m[\u001b[0m\u001b[1;36m1\u001b[0m\u001b[1;33m]\u001b[0m\u001b[1;33m)\u001b[0m\u001b[1;33m,\u001b[0m\u001b[0mnum\u001b[0m\u001b[1;33m,\u001b[0m \u001b[0mnewdf\u001b[0m\u001b[1;33m[\u001b[0m\u001b[1;34m'Age'\u001b[0m\u001b[1;33m]\u001b[0m\u001b[1;33m)\u001b[0m\u001b[1;33m\u001b[0m\u001b[1;33m\u001b[0m\u001b[0m\n\u001b[0;32m      4\u001b[0m     \u001b[0mage_dict\u001b[0m \u001b[1;33m=\u001b[0m \u001b[1;33m{\u001b[0m\u001b[1;36m0\u001b[0m\u001b[1;33m:\u001b[0m \u001b[1;34m'newborn'\u001b[0m\u001b[1;33m,\u001b[0m \u001b[1;36m1\u001b[0m\u001b[1;33m:\u001b[0m \u001b[1;34m'young_adult'\u001b[0m\u001b[1;33m,\u001b[0m \u001b[1;36m2\u001b[0m\u001b[1;33m:\u001b[0m \u001b[1;34m'middle_adult'\u001b[0m\u001b[1;33m,\u001b[0m \u001b[1;36m3\u001b[0m\u001b[1;33m:\u001b[0m \u001b[1;34m'senior'\u001b[0m\u001b[1;33m}\u001b[0m\u001b[1;33m\u001b[0m\u001b[1;33m\u001b[0m\u001b[0m\n\u001b[0;32m      5\u001b[0m     \u001b[0mnewdf\u001b[0m\u001b[1;33m[\u001b[0m\u001b[1;34m'Age'\u001b[0m\u001b[1;33m]\u001b[0m \u001b[1;33m=\u001b[0m \u001b[0mnewdf\u001b[0m\u001b[1;33m[\u001b[0m\u001b[1;34m'Age'\u001b[0m\u001b[1;33m]\u001b[0m\u001b[1;33m.\u001b[0m\u001b[0mreplace\u001b[0m\u001b[1;33m(\u001b[0m\u001b[0mage_dict\u001b[0m\u001b[1;33m)\u001b[0m\u001b[1;33m\u001b[0m\u001b[1;33m\u001b[0m\u001b[0m\n",
      "\u001b[1;31mTypeError\u001b[0m: int() argument must be a string, a bytes-like object or a number, not 'list'"
     ]
    }
   ],
   "source": [
    "age_ranges =[(0, 13), (13, 36), (36, 56), (56, 100)]\n",
    "for num, cat_range in enumerate(age_ranges):\n",
    "    newdf['Age'] = np.where(newdf['Age'].between(cat_range[0],cat_range[1]),num, newdf['Age'])\n",
    "    age_dict = {0: 'newborn', 1: 'young_adult', 2: 'middle_adult', 3: 'senior'}\n",
    "    newdf['Age'] = newdf['Age'].replace(age_dict)"
   ]
  },
  {
   "cell_type": "code",
   "execution_count": 89,
   "id": "9863f878",
   "metadata": {},
   "outputs": [],
   "source": [
    "def mimic_los_cleanup(adm_csv='./data/Admissiondata.xlsx',\n",
    "                      verbose=True):\n",
    "    df=pd.read_excel(adm_csv)\n",
    "    if verbose:\n",
    "        print('Completed .xlsx import')\n",
    "        \n",
    "        \n",
    "        \n",
    "        "
   ]
  },
  {
   "cell_type": "markdown",
   "id": "1b37958c",
   "metadata": {},
   "source": [
    "## Splitting Data"
   ]
  },
  {
   "cell_type": "code",
   "execution_count": 79,
   "id": "608d224e",
   "metadata": {},
   "outputs": [],
   "source": [
    "HAD = newdf['Hospital Stay'].values\n",
    "# Prediction Features\n",
    "features = newdf.drop(columns=['Hospital Stay'])"
   ]
  },
  {
   "cell_type": "code",
   "execution_count": 80,
   "id": "b3c300e9",
   "metadata": {},
   "outputs": [
    {
     "name": "stdout",
     "output_type": "stream",
     "text": [
      "Training set has 9844 samples.\n",
      "Testing set has 2461 samples.\n"
     ]
    }
   ],
   "source": [
    "X_train, X_test, y_train, y_test = train_test_split(features, \n",
    "                                                    HAD, \n",
    "                                                    test_size = .20, \n",
    "                                                    random_state = 0)\n",
    "\n",
    "# Show the results of the split\n",
    "print(\"Training set has {} samples.\".format(X_train.shape[0]))\n",
    "print(\"Testing set has {} samples.\".format(X_test.shape[0]))"
   ]
  },
  {
   "cell_type": "code",
   "execution_count": 81,
   "id": "19a431ac",
   "metadata": {},
   "outputs": [
    {
     "name": "stdout",
     "output_type": "stream",
     "text": [
      "SGDRegressor done.\n",
      "GradientBoostingRegressor done.\n",
      "LinearRegression done.\n",
      "KNeighborsRegressor done.\n",
      "RandomForestRegressor done.\n"
     ]
    }
   ],
   "source": [
    "# Regression models for comparison\n",
    "models = [SGDRegressor(random_state = 0), \n",
    "          GradientBoostingRegressor(random_state = 0), \n",
    "          LinearRegression(),\n",
    "          KNeighborsRegressor(),\n",
    "          RandomForestRegressor(random_state = 0)]\n",
    "\n",
    "results = {}\n",
    "\n",
    "for model in models:\n",
    "    \n",
    "    # Instantiate and fit Regressor Model\n",
    "    reg_model = model\n",
    "    reg_model.fit(X_train, y_train)\n",
    "    \n",
    "    # Make predictions with model\n",
    "    y_test_preds = reg_model.predict(X_test)\n",
    "    \n",
    "    # Grab model name and store results associated with model\n",
    "    name = str(model).split(\"(\")[0]\n",
    "\n",
    "    results[name] = r2_score(y_test, y_test_preds)\n",
    "    print('{} done.'.format(name))"
   ]
  },
  {
   "cell_type": "code",
   "execution_count": 83,
   "id": "48880d15",
   "metadata": {},
   "outputs": [
    {
     "data": {
      "image/png": "[encoded data removed]",
      "text/plain": [
       "<Figure size 432x288 with 1 Axes>"
      ]
     },
     "metadata": {
      "needs_background": "light"
     },
     "output_type": "display_data"
    }
   ],
   "source": [
    "# R2 score results\n",
    "fig, ax = plt.subplots()\n",
    "ind = range(len(results))\n",
    "ax.barh(ind, list(results.values()), align='center', \n",
    "        color = '#55a868', alpha=0.8)\n",
    "ax.set_yticks(ind)\n",
    "ax.set_yticklabels(results.keys())\n",
    "ax.set_xlabel('R-squared score')\n",
    "ax.tick_params(left=False, top=False, right=False) \n",
    "ax.set_title('Comparison of Regression Models')\n",
    "fig.savefig('images/compare_models.png', bbox_inches = 'tight')"
   ]
  },
  {
   "cell_type": "code",
   "execution_count": 101,
   "id": "3472f293",
   "metadata": {},
   "outputs": [
    {
     "name": "stdout",
     "output_type": "stream",
     "text": [
      "R2 score is: 0.084958\n"
     ]
    }
   ],
   "source": [
    "reg_model = RandomForestRegressor(random_state=0)   \n",
    "reg_model.fit(X_train, y_train)\n",
    "y_test_preds = reg_model.predict(X_test)\n",
    "r2_not_refined = r2_score(y_test, y_test_preds)\n",
    "print(\"R2 score is: {:2f}\".format(r2_not_refined)) "
   ]
  },
  {
   "cell_type": "code",
   "execution_count": 102,
   "id": "9265e8b1",
   "metadata": {},
   "outputs": [
    {
     "ename": "ValueError",
     "evalue": "Invalid parameter loss for estimator RandomForestRegressor(). Check the list of available parameters with `estimator.get_params().keys()`.",
     "output_type": "error",
     "traceback": [
      "\u001b[1;31m---------------------------------------------------------------------------\u001b[0m",
      "\u001b[1;31mValueError\u001b[0m                                Traceback (most recent call last)",
      "\u001b[1;32m<ipython-input-102-bd12f2915bba>\u001b[0m in \u001b[0;36m<module>\u001b[1;34m\u001b[0m\n\u001b[0;32m     15\u001b[0m \u001b[0mreg_model\u001b[0m \u001b[1;33m=\u001b[0m \u001b[0mRandomForestRegressor\u001b[0m\u001b[1;33m(\u001b[0m\u001b[1;33m)\u001b[0m\u001b[1;33m\u001b[0m\u001b[1;33m\u001b[0m\u001b[0m\n\u001b[0;32m     16\u001b[0m \u001b[0mgrid\u001b[0m \u001b[1;33m=\u001b[0m \u001b[0mGridSearchCV\u001b[0m\u001b[1;33m(\u001b[0m\u001b[0mreg_model\u001b[0m\u001b[1;33m,\u001b[0m \u001b[0mtuned_parameters\u001b[0m\u001b[1;33m)\u001b[0m\u001b[1;33m\u001b[0m\u001b[1;33m\u001b[0m\u001b[0m\n\u001b[1;32m---> 17\u001b[1;33m \u001b[0mgrid\u001b[0m\u001b[1;33m.\u001b[0m\u001b[0mfit\u001b[0m\u001b[1;33m(\u001b[0m\u001b[0mX_train\u001b[0m\u001b[1;33m,\u001b[0m \u001b[0my_train\u001b[0m\u001b[1;33m)\u001b[0m\u001b[1;33m\u001b[0m\u001b[1;33m\u001b[0m\u001b[0m\n\u001b[0m\u001b[0;32m     18\u001b[0m \u001b[0mreg_model_optimized\u001b[0m \u001b[1;33m=\u001b[0m \u001b[0mgrid\u001b[0m\u001b[1;33m.\u001b[0m\u001b[0mbest_estimator_\u001b[0m\u001b[1;33m\u001b[0m\u001b[1;33m\u001b[0m\u001b[0m\n\u001b[0;32m     19\u001b[0m \u001b[1;33m\u001b[0m\u001b[0m\n",
      "\u001b[1;32mC:\\ProgramData\\Anaconda3\\envs\\venvhad\\lib\\site-packages\\sklearn\\utils\\validation.py\u001b[0m in \u001b[0;36minner_f\u001b[1;34m(*args, **kwargs)\u001b[0m\n\u001b[0;32m     61\u001b[0m             \u001b[0mextra_args\u001b[0m \u001b[1;33m=\u001b[0m \u001b[0mlen\u001b[0m\u001b[1;33m(\u001b[0m\u001b[0margs\u001b[0m\u001b[1;33m)\u001b[0m \u001b[1;33m-\u001b[0m \u001b[0mlen\u001b[0m\u001b[1;33m(\u001b[0m\u001b[0mall_args\u001b[0m\u001b[1;33m)\u001b[0m\u001b[1;33m\u001b[0m\u001b[1;33m\u001b[0m\u001b[0m\n\u001b[0;32m     62\u001b[0m             \u001b[1;32mif\u001b[0m \u001b[0mextra_args\u001b[0m \u001b[1;33m<=\u001b[0m \u001b[1;36m0\u001b[0m\u001b[1;33m:\u001b[0m\u001b[1;33m\u001b[0m\u001b[1;33m\u001b[0m\u001b[0m\n\u001b[1;32m---> 63\u001b[1;33m                 \u001b[1;32mreturn\u001b[0m \u001b[0mf\u001b[0m\u001b[1;33m(\u001b[0m\u001b[1;33m*\u001b[0m\u001b[0margs\u001b[0m\u001b[1;33m,\u001b[0m \u001b[1;33m**\u001b[0m\u001b[0mkwargs\u001b[0m\u001b[1;33m)\u001b[0m\u001b[1;33m\u001b[0m\u001b[1;33m\u001b[0m\u001b[0m\n\u001b[0m\u001b[0;32m     64\u001b[0m \u001b[1;33m\u001b[0m\u001b[0m\n\u001b[0;32m     65\u001b[0m             \u001b[1;31m# extra_args > 0\u001b[0m\u001b[1;33m\u001b[0m\u001b[1;33m\u001b[0m\u001b[1;33m\u001b[0m\u001b[0m\n",
      "\u001b[1;32mC:\\ProgramData\\Anaconda3\\envs\\venvhad\\lib\\site-packages\\sklearn\\model_selection\\_search.py\u001b[0m in \u001b[0;36mfit\u001b[1;34m(self, X, y, groups, **fit_params)\u001b[0m\n\u001b[0;32m    839\u001b[0m                 \u001b[1;32mreturn\u001b[0m \u001b[0mresults\u001b[0m\u001b[1;33m\u001b[0m\u001b[1;33m\u001b[0m\u001b[0m\n\u001b[0;32m    840\u001b[0m \u001b[1;33m\u001b[0m\u001b[0m\n\u001b[1;32m--> 841\u001b[1;33m             \u001b[0mself\u001b[0m\u001b[1;33m.\u001b[0m\u001b[0m_run_search\u001b[0m\u001b[1;33m(\u001b[0m\u001b[0mevaluate_candidates\u001b[0m\u001b[1;33m)\u001b[0m\u001b[1;33m\u001b[0m\u001b[1;33m\u001b[0m\u001b[0m\n\u001b[0m\u001b[0;32m    842\u001b[0m \u001b[1;33m\u001b[0m\u001b[0m\n\u001b[0;32m    843\u001b[0m             \u001b[1;31m# multimetric is determined here because in the case of a callable\u001b[0m\u001b[1;33m\u001b[0m\u001b[1;33m\u001b[0m\u001b[1;33m\u001b[0m\u001b[0m\n",
      "\u001b[1;32mC:\\ProgramData\\Anaconda3\\envs\\venvhad\\lib\\site-packages\\sklearn\\model_selection\\_search.py\u001b[0m in \u001b[0;36m_run_search\u001b[1;34m(self, evaluate_candidates)\u001b[0m\n\u001b[0;32m   1286\u001b[0m     \u001b[1;32mdef\u001b[0m \u001b[0m_run_search\u001b[0m\u001b[1;33m(\u001b[0m\u001b[0mself\u001b[0m\u001b[1;33m,\u001b[0m \u001b[0mevaluate_candidates\u001b[0m\u001b[1;33m)\u001b[0m\u001b[1;33m:\u001b[0m\u001b[1;33m\u001b[0m\u001b[1;33m\u001b[0m\u001b[0m\n\u001b[0;32m   1287\u001b[0m         \u001b[1;34m\"\"\"Search all candidates in param_grid\"\"\"\u001b[0m\u001b[1;33m\u001b[0m\u001b[1;33m\u001b[0m\u001b[0m\n\u001b[1;32m-> 1288\u001b[1;33m         \u001b[0mevaluate_candidates\u001b[0m\u001b[1;33m(\u001b[0m\u001b[0mParameterGrid\u001b[0m\u001b[1;33m(\u001b[0m\u001b[0mself\u001b[0m\u001b[1;33m.\u001b[0m\u001b[0mparam_grid\u001b[0m\u001b[1;33m)\u001b[0m\u001b[1;33m)\u001b[0m\u001b[1;33m\u001b[0m\u001b[1;33m\u001b[0m\u001b[0m\n\u001b[0m\u001b[0;32m   1289\u001b[0m \u001b[1;33m\u001b[0m\u001b[0m\n\u001b[0;32m   1290\u001b[0m \u001b[1;33m\u001b[0m\u001b[0m\n",
      "\u001b[1;32mC:\\ProgramData\\Anaconda3\\envs\\venvhad\\lib\\site-packages\\sklearn\\model_selection\\_search.py\u001b[0m in \u001b[0;36mevaluate_candidates\u001b[1;34m(candidate_params, cv, more_results)\u001b[0m\n\u001b[0;32m    793\u001b[0m                               n_splits, n_candidates, n_candidates * n_splits))\n\u001b[0;32m    794\u001b[0m \u001b[1;33m\u001b[0m\u001b[0m\n\u001b[1;32m--> 795\u001b[1;33m                 out = parallel(delayed(_fit_and_score)(clone(base_estimator),\n\u001b[0m\u001b[0;32m    796\u001b[0m                                                        \u001b[0mX\u001b[0m\u001b[1;33m,\u001b[0m \u001b[0my\u001b[0m\u001b[1;33m,\u001b[0m\u001b[1;33m\u001b[0m\u001b[1;33m\u001b[0m\u001b[0m\n\u001b[0;32m    797\u001b[0m                                                        \u001b[0mtrain\u001b[0m\u001b[1;33m=\u001b[0m\u001b[0mtrain\u001b[0m\u001b[1;33m,\u001b[0m \u001b[0mtest\u001b[0m\u001b[1;33m=\u001b[0m\u001b[0mtest\u001b[0m\u001b[1;33m,\u001b[0m\u001b[1;33m\u001b[0m\u001b[1;33m\u001b[0m\u001b[0m\n",
      "\u001b[1;32mC:\\ProgramData\\Anaconda3\\envs\\venvhad\\lib\\site-packages\\joblib\\parallel.py\u001b[0m in \u001b[0;36m__call__\u001b[1;34m(self, iterable)\u001b[0m\n\u001b[0;32m   1039\u001b[0m             \u001b[1;31m# remaining jobs.\u001b[0m\u001b[1;33m\u001b[0m\u001b[1;33m\u001b[0m\u001b[1;33m\u001b[0m\u001b[0m\n\u001b[0;32m   1040\u001b[0m             \u001b[0mself\u001b[0m\u001b[1;33m.\u001b[0m\u001b[0m_iterating\u001b[0m \u001b[1;33m=\u001b[0m \u001b[1;32mFalse\u001b[0m\u001b[1;33m\u001b[0m\u001b[1;33m\u001b[0m\u001b[0m\n\u001b[1;32m-> 1041\u001b[1;33m             \u001b[1;32mif\u001b[0m \u001b[0mself\u001b[0m\u001b[1;33m.\u001b[0m\u001b[0mdispatch_one_batch\u001b[0m\u001b[1;33m(\u001b[0m\u001b[0miterator\u001b[0m\u001b[1;33m)\u001b[0m\u001b[1;33m:\u001b[0m\u001b[1;33m\u001b[0m\u001b[1;33m\u001b[0m\u001b[0m\n\u001b[0m\u001b[0;32m   1042\u001b[0m                 \u001b[0mself\u001b[0m\u001b[1;33m.\u001b[0m\u001b[0m_iterating\u001b[0m \u001b[1;33m=\u001b[0m \u001b[0mself\u001b[0m\u001b[1;33m.\u001b[0m\u001b[0m_original_iterator\u001b[0m \u001b[1;32mis\u001b[0m \u001b[1;32mnot\u001b[0m \u001b[1;32mNone\u001b[0m\u001b[1;33m\u001b[0m\u001b[1;33m\u001b[0m\u001b[0m\n\u001b[0;32m   1043\u001b[0m \u001b[1;33m\u001b[0m\u001b[0m\n",
      "\u001b[1;32mC:\\ProgramData\\Anaconda3\\envs\\venvhad\\lib\\site-packages\\joblib\\parallel.py\u001b[0m in \u001b[0;36mdispatch_one_batch\u001b[1;34m(self, iterator)\u001b[0m\n\u001b[0;32m    857\u001b[0m                 \u001b[1;32mreturn\u001b[0m \u001b[1;32mFalse\u001b[0m\u001b[1;33m\u001b[0m\u001b[1;33m\u001b[0m\u001b[0m\n\u001b[0;32m    858\u001b[0m             \u001b[1;32melse\u001b[0m\u001b[1;33m:\u001b[0m\u001b[1;33m\u001b[0m\u001b[1;33m\u001b[0m\u001b[0m\n\u001b[1;32m--> 859\u001b[1;33m                 \u001b[0mself\u001b[0m\u001b[1;33m.\u001b[0m\u001b[0m_dispatch\u001b[0m\u001b[1;33m(\u001b[0m\u001b[0mtasks\u001b[0m\u001b[1;33m)\u001b[0m\u001b[1;33m\u001b[0m\u001b[1;33m\u001b[0m\u001b[0m\n\u001b[0m\u001b[0;32m    860\u001b[0m                 \u001b[1;32mreturn\u001b[0m \u001b[1;32mTrue\u001b[0m\u001b[1;33m\u001b[0m\u001b[1;33m\u001b[0m\u001b[0m\n\u001b[0;32m    861\u001b[0m \u001b[1;33m\u001b[0m\u001b[0m\n",
      "\u001b[1;32mC:\\ProgramData\\Anaconda3\\envs\\venvhad\\lib\\site-packages\\joblib\\parallel.py\u001b[0m in \u001b[0;36m_dispatch\u001b[1;34m(self, batch)\u001b[0m\n\u001b[0;32m    775\u001b[0m         \u001b[1;32mwith\u001b[0m \u001b[0mself\u001b[0m\u001b[1;33m.\u001b[0m\u001b[0m_lock\u001b[0m\u001b[1;33m:\u001b[0m\u001b[1;33m\u001b[0m\u001b[1;33m\u001b[0m\u001b[0m\n\u001b[0;32m    776\u001b[0m             \u001b[0mjob_idx\u001b[0m \u001b[1;33m=\u001b[0m \u001b[0mlen\u001b[0m\u001b[1;33m(\u001b[0m\u001b[0mself\u001b[0m\u001b[1;33m.\u001b[0m\u001b[0m_jobs\u001b[0m\u001b[1;33m)\u001b[0m\u001b[1;33m\u001b[0m\u001b[1;33m\u001b[0m\u001b[0m\n\u001b[1;32m--> 777\u001b[1;33m             \u001b[0mjob\u001b[0m \u001b[1;33m=\u001b[0m \u001b[0mself\u001b[0m\u001b[1;33m.\u001b[0m\u001b[0m_backend\u001b[0m\u001b[1;33m.\u001b[0m\u001b[0mapply_async\u001b[0m\u001b[1;33m(\u001b[0m\u001b[0mbatch\u001b[0m\u001b[1;33m,\u001b[0m \u001b[0mcallback\u001b[0m\u001b[1;33m=\u001b[0m\u001b[0mcb\u001b[0m\u001b[1;33m)\u001b[0m\u001b[1;33m\u001b[0m\u001b[1;33m\u001b[0m\u001b[0m\n\u001b[0m\u001b[0;32m    778\u001b[0m             \u001b[1;31m# A job can complete so quickly than its callback is\u001b[0m\u001b[1;33m\u001b[0m\u001b[1;33m\u001b[0m\u001b[1;33m\u001b[0m\u001b[0m\n\u001b[0;32m    779\u001b[0m             \u001b[1;31m# called before we get here, causing self._jobs to\u001b[0m\u001b[1;33m\u001b[0m\u001b[1;33m\u001b[0m\u001b[1;33m\u001b[0m\u001b[0m\n",
      "\u001b[1;32mC:\\ProgramData\\Anaconda3\\envs\\venvhad\\lib\\site-packages\\joblib\\_parallel_backends.py\u001b[0m in \u001b[0;36mapply_async\u001b[1;34m(self, func, callback)\u001b[0m\n\u001b[0;32m    206\u001b[0m     \u001b[1;32mdef\u001b[0m \u001b[0mapply_async\u001b[0m\u001b[1;33m(\u001b[0m\u001b[0mself\u001b[0m\u001b[1;33m,\u001b[0m \u001b[0mfunc\u001b[0m\u001b[1;33m,\u001b[0m \u001b[0mcallback\u001b[0m\u001b[1;33m=\u001b[0m\u001b[1;32mNone\u001b[0m\u001b[1;33m)\u001b[0m\u001b[1;33m:\u001b[0m\u001b[1;33m\u001b[0m\u001b[1;33m\u001b[0m\u001b[0m\n\u001b[0;32m    207\u001b[0m         \u001b[1;34m\"\"\"Schedule a func to be run\"\"\"\u001b[0m\u001b[1;33m\u001b[0m\u001b[1;33m\u001b[0m\u001b[0m\n\u001b[1;32m--> 208\u001b[1;33m         \u001b[0mresult\u001b[0m \u001b[1;33m=\u001b[0m \u001b[0mImmediateResult\u001b[0m\u001b[1;33m(\u001b[0m\u001b[0mfunc\u001b[0m\u001b[1;33m)\u001b[0m\u001b[1;33m\u001b[0m\u001b[1;33m\u001b[0m\u001b[0m\n\u001b[0m\u001b[0;32m    209\u001b[0m         \u001b[1;32mif\u001b[0m \u001b[0mcallback\u001b[0m\u001b[1;33m:\u001b[0m\u001b[1;33m\u001b[0m\u001b[1;33m\u001b[0m\u001b[0m\n\u001b[0;32m    210\u001b[0m             \u001b[0mcallback\u001b[0m\u001b[1;33m(\u001b[0m\u001b[0mresult\u001b[0m\u001b[1;33m)\u001b[0m\u001b[1;33m\u001b[0m\u001b[1;33m\u001b[0m\u001b[0m\n",
      "\u001b[1;32mC:\\ProgramData\\Anaconda3\\envs\\venvhad\\lib\\site-packages\\joblib\\_parallel_backends.py\u001b[0m in \u001b[0;36m__init__\u001b[1;34m(self, batch)\u001b[0m\n\u001b[0;32m    570\u001b[0m         \u001b[1;31m# Don't delay the application, to avoid keeping the input\u001b[0m\u001b[1;33m\u001b[0m\u001b[1;33m\u001b[0m\u001b[1;33m\u001b[0m\u001b[0m\n\u001b[0;32m    571\u001b[0m         \u001b[1;31m# arguments in memory\u001b[0m\u001b[1;33m\u001b[0m\u001b[1;33m\u001b[0m\u001b[1;33m\u001b[0m\u001b[0m\n\u001b[1;32m--> 572\u001b[1;33m         \u001b[0mself\u001b[0m\u001b[1;33m.\u001b[0m\u001b[0mresults\u001b[0m \u001b[1;33m=\u001b[0m \u001b[0mbatch\u001b[0m\u001b[1;33m(\u001b[0m\u001b[1;33m)\u001b[0m\u001b[1;33m\u001b[0m\u001b[1;33m\u001b[0m\u001b[0m\n\u001b[0m\u001b[0;32m    573\u001b[0m \u001b[1;33m\u001b[0m\u001b[0m\n\u001b[0;32m    574\u001b[0m     \u001b[1;32mdef\u001b[0m \u001b[0mget\u001b[0m\u001b[1;33m(\u001b[0m\u001b[0mself\u001b[0m\u001b[1;33m)\u001b[0m\u001b[1;33m:\u001b[0m\u001b[1;33m\u001b[0m\u001b[1;33m\u001b[0m\u001b[0m\n",
      "\u001b[1;32mC:\\ProgramData\\Anaconda3\\envs\\venvhad\\lib\\site-packages\\joblib\\parallel.py\u001b[0m in \u001b[0;36m__call__\u001b[1;34m(self)\u001b[0m\n\u001b[0;32m    260\u001b[0m         \u001b[1;31m# change the default number of processes to -1\u001b[0m\u001b[1;33m\u001b[0m\u001b[1;33m\u001b[0m\u001b[1;33m\u001b[0m\u001b[0m\n\u001b[0;32m    261\u001b[0m         \u001b[1;32mwith\u001b[0m \u001b[0mparallel_backend\u001b[0m\u001b[1;33m(\u001b[0m\u001b[0mself\u001b[0m\u001b[1;33m.\u001b[0m\u001b[0m_backend\u001b[0m\u001b[1;33m,\u001b[0m \u001b[0mn_jobs\u001b[0m\u001b[1;33m=\u001b[0m\u001b[0mself\u001b[0m\u001b[1;33m.\u001b[0m\u001b[0m_n_jobs\u001b[0m\u001b[1;33m)\u001b[0m\u001b[1;33m:\u001b[0m\u001b[1;33m\u001b[0m\u001b[1;33m\u001b[0m\u001b[0m\n\u001b[1;32m--> 262\u001b[1;33m             return [func(*args, **kwargs)\n\u001b[0m\u001b[0;32m    263\u001b[0m                     for func, args, kwargs in self.items]\n\u001b[0;32m    264\u001b[0m \u001b[1;33m\u001b[0m\u001b[0m\n",
      "\u001b[1;32mC:\\ProgramData\\Anaconda3\\envs\\venvhad\\lib\\site-packages\\joblib\\parallel.py\u001b[0m in \u001b[0;36m<listcomp>\u001b[1;34m(.0)\u001b[0m\n\u001b[0;32m    260\u001b[0m         \u001b[1;31m# change the default number of processes to -1\u001b[0m\u001b[1;33m\u001b[0m\u001b[1;33m\u001b[0m\u001b[1;33m\u001b[0m\u001b[0m\n\u001b[0;32m    261\u001b[0m         \u001b[1;32mwith\u001b[0m \u001b[0mparallel_backend\u001b[0m\u001b[1;33m(\u001b[0m\u001b[0mself\u001b[0m\u001b[1;33m.\u001b[0m\u001b[0m_backend\u001b[0m\u001b[1;33m,\u001b[0m \u001b[0mn_jobs\u001b[0m\u001b[1;33m=\u001b[0m\u001b[0mself\u001b[0m\u001b[1;33m.\u001b[0m\u001b[0m_n_jobs\u001b[0m\u001b[1;33m)\u001b[0m\u001b[1;33m:\u001b[0m\u001b[1;33m\u001b[0m\u001b[1;33m\u001b[0m\u001b[0m\n\u001b[1;32m--> 262\u001b[1;33m             return [func(*args, **kwargs)\n\u001b[0m\u001b[0;32m    263\u001b[0m                     for func, args, kwargs in self.items]\n\u001b[0;32m    264\u001b[0m \u001b[1;33m\u001b[0m\u001b[0m\n",
      "\u001b[1;32mC:\\ProgramData\\Anaconda3\\envs\\venvhad\\lib\\site-packages\\sklearn\\utils\\fixes.py\u001b[0m in \u001b[0;36m__call__\u001b[1;34m(self, *args, **kwargs)\u001b[0m\n\u001b[0;32m    220\u001b[0m     \u001b[1;32mdef\u001b[0m \u001b[0m__call__\u001b[0m\u001b[1;33m(\u001b[0m\u001b[0mself\u001b[0m\u001b[1;33m,\u001b[0m \u001b[1;33m*\u001b[0m\u001b[0margs\u001b[0m\u001b[1;33m,\u001b[0m \u001b[1;33m**\u001b[0m\u001b[0mkwargs\u001b[0m\u001b[1;33m)\u001b[0m\u001b[1;33m:\u001b[0m\u001b[1;33m\u001b[0m\u001b[1;33m\u001b[0m\u001b[0m\n\u001b[0;32m    221\u001b[0m         \u001b[1;32mwith\u001b[0m \u001b[0mconfig_context\u001b[0m\u001b[1;33m(\u001b[0m\u001b[1;33m**\u001b[0m\u001b[0mself\u001b[0m\u001b[1;33m.\u001b[0m\u001b[0mconfig\u001b[0m\u001b[1;33m)\u001b[0m\u001b[1;33m:\u001b[0m\u001b[1;33m\u001b[0m\u001b[1;33m\u001b[0m\u001b[0m\n\u001b[1;32m--> 222\u001b[1;33m             \u001b[1;32mreturn\u001b[0m \u001b[0mself\u001b[0m\u001b[1;33m.\u001b[0m\u001b[0mfunction\u001b[0m\u001b[1;33m(\u001b[0m\u001b[1;33m*\u001b[0m\u001b[0margs\u001b[0m\u001b[1;33m,\u001b[0m \u001b[1;33m**\u001b[0m\u001b[0mkwargs\u001b[0m\u001b[1;33m)\u001b[0m\u001b[1;33m\u001b[0m\u001b[1;33m\u001b[0m\u001b[0m\n\u001b[0m",
      "\u001b[1;32mC:\\ProgramData\\Anaconda3\\envs\\venvhad\\lib\\site-packages\\sklearn\\model_selection\\_validation.py\u001b[0m in \u001b[0;36m_fit_and_score\u001b[1;34m(estimator, X, y, scorer, train, test, verbose, parameters, fit_params, return_train_score, return_parameters, return_n_test_samples, return_times, return_estimator, split_progress, candidate_progress, error_score)\u001b[0m\n\u001b[0;32m    579\u001b[0m             \u001b[0mcloned_parameters\u001b[0m\u001b[1;33m[\u001b[0m\u001b[0mk\u001b[0m\u001b[1;33m]\u001b[0m \u001b[1;33m=\u001b[0m \u001b[0mclone\u001b[0m\u001b[1;33m(\u001b[0m\u001b[0mv\u001b[0m\u001b[1;33m,\u001b[0m \u001b[0msafe\u001b[0m\u001b[1;33m=\u001b[0m\u001b[1;32mFalse\u001b[0m\u001b[1;33m)\u001b[0m\u001b[1;33m\u001b[0m\u001b[1;33m\u001b[0m\u001b[0m\n\u001b[0;32m    580\u001b[0m \u001b[1;33m\u001b[0m\u001b[0m\n\u001b[1;32m--> 581\u001b[1;33m         \u001b[0mestimator\u001b[0m \u001b[1;33m=\u001b[0m \u001b[0mestimator\u001b[0m\u001b[1;33m.\u001b[0m\u001b[0mset_params\u001b[0m\u001b[1;33m(\u001b[0m\u001b[1;33m**\u001b[0m\u001b[0mcloned_parameters\u001b[0m\u001b[1;33m)\u001b[0m\u001b[1;33m\u001b[0m\u001b[1;33m\u001b[0m\u001b[0m\n\u001b[0m\u001b[0;32m    582\u001b[0m \u001b[1;33m\u001b[0m\u001b[0m\n\u001b[0;32m    583\u001b[0m     \u001b[0mstart_time\u001b[0m \u001b[1;33m=\u001b[0m \u001b[0mtime\u001b[0m\u001b[1;33m.\u001b[0m\u001b[0mtime\u001b[0m\u001b[1;33m(\u001b[0m\u001b[1;33m)\u001b[0m\u001b[1;33m\u001b[0m\u001b[1;33m\u001b[0m\u001b[0m\n",
      "\u001b[1;32mC:\\ProgramData\\Anaconda3\\envs\\venvhad\\lib\\site-packages\\sklearn\\base.py\u001b[0m in \u001b[0;36mset_params\u001b[1;34m(self, **params)\u001b[0m\n\u001b[0;32m    228\u001b[0m             \u001b[0mkey\u001b[0m\u001b[1;33m,\u001b[0m \u001b[0mdelim\u001b[0m\u001b[1;33m,\u001b[0m \u001b[0msub_key\u001b[0m \u001b[1;33m=\u001b[0m \u001b[0mkey\u001b[0m\u001b[1;33m.\u001b[0m\u001b[0mpartition\u001b[0m\u001b[1;33m(\u001b[0m\u001b[1;34m'__'\u001b[0m\u001b[1;33m)\u001b[0m\u001b[1;33m\u001b[0m\u001b[1;33m\u001b[0m\u001b[0m\n\u001b[0;32m    229\u001b[0m             \u001b[1;32mif\u001b[0m \u001b[0mkey\u001b[0m \u001b[1;32mnot\u001b[0m \u001b[1;32min\u001b[0m \u001b[0mvalid_params\u001b[0m\u001b[1;33m:\u001b[0m\u001b[1;33m\u001b[0m\u001b[1;33m\u001b[0m\u001b[0m\n\u001b[1;32m--> 230\u001b[1;33m                 raise ValueError('Invalid parameter %s for estimator %s. '\n\u001b[0m\u001b[0;32m    231\u001b[0m                                  \u001b[1;34m'Check the list of available parameters '\u001b[0m\u001b[1;33m\u001b[0m\u001b[1;33m\u001b[0m\u001b[0m\n\u001b[0;32m    232\u001b[0m                                  \u001b[1;34m'with `estimator.get_params().keys()`.'\u001b[0m \u001b[1;33m%\u001b[0m\u001b[1;33m\u001b[0m\u001b[1;33m\u001b[0m\u001b[0m\n",
      "\u001b[1;31mValueError\u001b[0m: Invalid parameter loss for estimator RandomForestRegressor(). Check the list of available parameters with `estimator.get_params().keys()`."
     ]
    }
   ],
   "source": [
    "X_train, X_test, y_train, y_test = train_test_split(features, \n",
    "                                                    HAD, \n",
    "                                                    test_size = .20, \n",
    "                                                    random_state = 42)\n",
    "\n",
    "# Set the parameters by cross-validation\n",
    "#tuned_parameters = [{'n_estimators': [100, 200, 300],\n",
    "#                     'max_depth' : [2, 3, 4],\n",
    "#                     'loss': ['ls', 'lad', 'huber']}]\n",
    "tuned_parameters = [{'n_estimators': [200, 300],\n",
    "                     'max_depth' : [3, 4],\n",
    "                     'loss': ['ls', 'lad']}]\n",
    "\n",
    "# create and fit a ridge regression model, testing each alpha\n",
    "reg_model = RandomForestRegressor()  \n",
    "grid = GridSearchCV(reg_model, tuned_parameters)\n",
    "grid.fit(X_train, y_train)\n",
    "reg_model_optimized = grid.best_estimator_\n",
    "\n",
    "# summarize the results of the grid search\n",
    "print(grid.best_score_)\n",
    "print(grid.best_estimator_)"
   ]
  },
  {
   "cell_type": "code",
   "execution_count": 69,
   "id": "e61bada8",
   "metadata": {},
   "outputs": [],
   "source": [
    "newdf=df.drop(['ICD10 code','Stay','Insurance','Discharge Doctor','Gross Bill Amount','Addmission Time',\n",
    "              'Discharge Time','ICD10 code.1','diagnosis name'],axis=1)"
   ]
  },
  {
   "cell_type": "code",
   "execution_count": null,
   "id": "06a6529d",
   "metadata": {},
   "outputs": [],
   "source": []
  }
 ],
 "metadata": {
  "kernelspec": {
   "display_name": "Python 3",
   "language": "python",
   "name": "python3"
  },
  "language_info": {
   "codemirror_mode": {
    "name": "ipython",
    "version": 3
   },
   "file_extension": ".py",
   "mimetype": "text/x-python",
   "name": "python",
   "nbconvert_exporter": "python",
   "pygments_lexer": "ipython3",
   "version": "3.8.8"
  }
 },
 "nbformat": 4,
 "nbformat_minor": 5
}
